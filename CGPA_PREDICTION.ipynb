{
  "nbformat": 4,
  "nbformat_minor": 0,
  "metadata": {
    "colab": {
      "provenance": [],
      "include_colab_link": true
    },
    "kernelspec": {
      "name": "python3",
      "display_name": "Python 3"
    },
    "language_info": {
      "name": "python"
    }
  },
  "cells": [
    {
      "cell_type": "markdown",
      "metadata": {
        "id": "view-in-github",
        "colab_type": "text"
      },
      "source": [
        "<a href=\"https://colab.research.google.com/github/SajalGarg035/machine-learning-data-science/blob/main/CGPA_PREDICTION.ipynb\" target=\"_parent\"><img src=\"https://colab.research.google.com/assets/colab-badge.svg\" alt=\"Open In Colab\"/></a>"
      ]
    },
    {
      "cell_type": "markdown",
      "source": [
        "#**DATA VISUALISATION AND ANALYSIS**\n"
      ],
      "metadata": {
        "id": "wN9lc6zcw1xe"
      }
    },
    {
      "cell_type": "code",
      "execution_count": null,
      "metadata": {
        "id": "JCFGo0FPrG8z"
      },
      "outputs": [],
      "source": [
        "import numpy as np\n",
        "import pandas as pd\n",
        "import seaborn as sns\n",
        "import matplotlib.pyplot as plt\n",
        "from sklearn.model_selection import train_test_split\n",
        "from sklearn.preprocessing import LabelEncoder, StandardScaler"
      ]
    },
    {
      "cell_type": "markdown",
      "source": [
        "###IMPORTING THE DATASET"
      ],
      "metadata": {
        "id": "i0JFxqRnzZ0j"
      }
    },
    {
      "cell_type": "code",
      "source": [
        "data = pd.read_csv( 'train.csv', index_col='ID')"
      ],
      "metadata": {
        "id": "R7ATu_bLr_VS"
      },
      "execution_count": null,
      "outputs": []
    },
    {
      "cell_type": "code",
      "source": [
        "datas = pd.read_csv( 'test.csv',index_col='ID')"
      ],
      "metadata": {
        "id": "q9l6rfErsCDz"
      },
      "execution_count": null,
      "outputs": []
    },
    {
      "cell_type": "markdown",
      "source": [
        "###**data analysis**"
      ],
      "metadata": {
        "id": "lg8LRm1K2wa2"
      }
    },
    {
      "cell_type": "code",
      "source": [
        "data.head()"
      ],
      "metadata": {
        "colab": {
          "base_uri": "https://localhost:8080/",
          "height": 287
        },
        "id": "d55zbChAsJDH",
        "outputId": "1691d404-2c16-49ff-ceae-68635ab1a94e"
      },
      "execution_count": null,
      "outputs": [
        {
          "output_type": "execute_result",
          "data": {
            "text/plain": [
              "   College sex  age address famsize Pstatus  Medu  Fedu      Mjob   Fjob  ...  \\\n",
              "ID                                                                        ...   \n",
              "1    IIITA   M   17       R     LE3       T     2     1   at_home  other  ...   \n",
              "2    IIITA   M   17       U     GT3       T     4     3     other  other  ...   \n",
              "3    IIITA   F   17       U     GT3       T     4     2     other  other  ...   \n",
              "4    IIITA   F   17       R     LE3       T     1     1   at_home  other  ...   \n",
              "5    IIITA   M   20       U     GT3       A     3     2  services  other  ...   \n",
              "\n",
              "   romantic famrel  freetime  goout  Dalc Walc health absences  C1      CGPA  \n",
              "ID                                                                            \n",
              "1       yes      3         3      2     2    2      5        8   8  4.656085  \n",
              "2       yes      5         2      3     1    1      2        4  11  6.666667  \n",
              "3        no      4         3      3     1    1      3        0  16  8.465608  \n",
              "4        no      4         3      3     1    3      5        4  15  7.883598  \n",
              "5        no      5         5      3     1    1      5        0  14  7.883598  \n",
              "\n",
              "[5 rows x 32 columns]"
            ],
            "text/html": [
              "\n",
              "  <div id=\"df-377e6f47-18ae-4167-9805-d2902fb6ca03\" class=\"colab-df-container\">\n",
              "    <div>\n",
              "<style scoped>\n",
              "    .dataframe tbody tr th:only-of-type {\n",
              "        vertical-align: middle;\n",
              "    }\n",
              "\n",
              "    .dataframe tbody tr th {\n",
              "        vertical-align: top;\n",
              "    }\n",
              "\n",
              "    .dataframe thead th {\n",
              "        text-align: right;\n",
              "    }\n",
              "</style>\n",
              "<table border=\"1\" class=\"dataframe\">\n",
              "  <thead>\n",
              "    <tr style=\"text-align: right;\">\n",
              "      <th></th>\n",
              "      <th>College</th>\n",
              "      <th>sex</th>\n",
              "      <th>age</th>\n",
              "      <th>address</th>\n",
              "      <th>famsize</th>\n",
              "      <th>Pstatus</th>\n",
              "      <th>Medu</th>\n",
              "      <th>Fedu</th>\n",
              "      <th>Mjob</th>\n",
              "      <th>Fjob</th>\n",
              "      <th>...</th>\n",
              "      <th>romantic</th>\n",
              "      <th>famrel</th>\n",
              "      <th>freetime</th>\n",
              "      <th>goout</th>\n",
              "      <th>Dalc</th>\n",
              "      <th>Walc</th>\n",
              "      <th>health</th>\n",
              "      <th>absences</th>\n",
              "      <th>C1</th>\n",
              "      <th>CGPA</th>\n",
              "    </tr>\n",
              "    <tr>\n",
              "      <th>ID</th>\n",
              "      <th></th>\n",
              "      <th></th>\n",
              "      <th></th>\n",
              "      <th></th>\n",
              "      <th></th>\n",
              "      <th></th>\n",
              "      <th></th>\n",
              "      <th></th>\n",
              "      <th></th>\n",
              "      <th></th>\n",
              "      <th></th>\n",
              "      <th></th>\n",
              "      <th></th>\n",
              "      <th></th>\n",
              "      <th></th>\n",
              "      <th></th>\n",
              "      <th></th>\n",
              "      <th></th>\n",
              "      <th></th>\n",
              "      <th></th>\n",
              "      <th></th>\n",
              "    </tr>\n",
              "  </thead>\n",
              "  <tbody>\n",
              "    <tr>\n",
              "      <th>1</th>\n",
              "      <td>IIITA</td>\n",
              "      <td>M</td>\n",
              "      <td>17</td>\n",
              "      <td>R</td>\n",
              "      <td>LE3</td>\n",
              "      <td>T</td>\n",
              "      <td>2</td>\n",
              "      <td>1</td>\n",
              "      <td>at_home</td>\n",
              "      <td>other</td>\n",
              "      <td>...</td>\n",
              "      <td>yes</td>\n",
              "      <td>3</td>\n",
              "      <td>3</td>\n",
              "      <td>2</td>\n",
              "      <td>2</td>\n",
              "      <td>2</td>\n",
              "      <td>5</td>\n",
              "      <td>8</td>\n",
              "      <td>8</td>\n",
              "      <td>4.656085</td>\n",
              "    </tr>\n",
              "    <tr>\n",
              "      <th>2</th>\n",
              "      <td>IIITA</td>\n",
              "      <td>M</td>\n",
              "      <td>17</td>\n",
              "      <td>U</td>\n",
              "      <td>GT3</td>\n",
              "      <td>T</td>\n",
              "      <td>4</td>\n",
              "      <td>3</td>\n",
              "      <td>other</td>\n",
              "      <td>other</td>\n",
              "      <td>...</td>\n",
              "      <td>yes</td>\n",
              "      <td>5</td>\n",
              "      <td>2</td>\n",
              "      <td>3</td>\n",
              "      <td>1</td>\n",
              "      <td>1</td>\n",
              "      <td>2</td>\n",
              "      <td>4</td>\n",
              "      <td>11</td>\n",
              "      <td>6.666667</td>\n",
              "    </tr>\n",
              "    <tr>\n",
              "      <th>3</th>\n",
              "      <td>IIITA</td>\n",
              "      <td>F</td>\n",
              "      <td>17</td>\n",
              "      <td>U</td>\n",
              "      <td>GT3</td>\n",
              "      <td>T</td>\n",
              "      <td>4</td>\n",
              "      <td>2</td>\n",
              "      <td>other</td>\n",
              "      <td>other</td>\n",
              "      <td>...</td>\n",
              "      <td>no</td>\n",
              "      <td>4</td>\n",
              "      <td>3</td>\n",
              "      <td>3</td>\n",
              "      <td>1</td>\n",
              "      <td>1</td>\n",
              "      <td>3</td>\n",
              "      <td>0</td>\n",
              "      <td>16</td>\n",
              "      <td>8.465608</td>\n",
              "    </tr>\n",
              "    <tr>\n",
              "      <th>4</th>\n",
              "      <td>IIITA</td>\n",
              "      <td>F</td>\n",
              "      <td>17</td>\n",
              "      <td>R</td>\n",
              "      <td>LE3</td>\n",
              "      <td>T</td>\n",
              "      <td>1</td>\n",
              "      <td>1</td>\n",
              "      <td>at_home</td>\n",
              "      <td>other</td>\n",
              "      <td>...</td>\n",
              "      <td>no</td>\n",
              "      <td>4</td>\n",
              "      <td>3</td>\n",
              "      <td>3</td>\n",
              "      <td>1</td>\n",
              "      <td>3</td>\n",
              "      <td>5</td>\n",
              "      <td>4</td>\n",
              "      <td>15</td>\n",
              "      <td>7.883598</td>\n",
              "    </tr>\n",
              "    <tr>\n",
              "      <th>5</th>\n",
              "      <td>IIITA</td>\n",
              "      <td>M</td>\n",
              "      <td>20</td>\n",
              "      <td>U</td>\n",
              "      <td>GT3</td>\n",
              "      <td>A</td>\n",
              "      <td>3</td>\n",
              "      <td>2</td>\n",
              "      <td>services</td>\n",
              "      <td>other</td>\n",
              "      <td>...</td>\n",
              "      <td>no</td>\n",
              "      <td>5</td>\n",
              "      <td>5</td>\n",
              "      <td>3</td>\n",
              "      <td>1</td>\n",
              "      <td>1</td>\n",
              "      <td>5</td>\n",
              "      <td>0</td>\n",
              "      <td>14</td>\n",
              "      <td>7.883598</td>\n",
              "    </tr>\n",
              "  </tbody>\n",
              "</table>\n",
              "<p>5 rows × 32 columns</p>\n",
              "</div>\n",
              "    <div class=\"colab-df-buttons\">\n",
              "\n",
              "  <div class=\"colab-df-container\">\n",
              "    <button class=\"colab-df-convert\" onclick=\"convertToInteractive('df-377e6f47-18ae-4167-9805-d2902fb6ca03')\"\n",
              "            title=\"Convert this dataframe to an interactive table.\"\n",
              "            style=\"display:none;\">\n",
              "\n",
              "  <svg xmlns=\"http://www.w3.org/2000/svg\" height=\"24px\" viewBox=\"0 -960 960 960\">\n",
              "    <path d=\"M120-120v-720h720v720H120Zm60-500h600v-160H180v160Zm220 220h160v-160H400v160Zm0 220h160v-160H400v160ZM180-400h160v-160H180v160Zm440 0h160v-160H620v160ZM180-180h160v-160H180v160Zm440 0h160v-160H620v160Z\"/>\n",
              "  </svg>\n",
              "    </button>\n",
              "\n",
              "  <style>\n",
              "    .colab-df-container {\n",
              "      display:flex;\n",
              "      gap: 12px;\n",
              "    }\n",
              "\n",
              "    .colab-df-convert {\n",
              "      background-color: #E8F0FE;\n",
              "      border: none;\n",
              "      border-radius: 50%;\n",
              "      cursor: pointer;\n",
              "      display: none;\n",
              "      fill: #1967D2;\n",
              "      height: 32px;\n",
              "      padding: 0 0 0 0;\n",
              "      width: 32px;\n",
              "    }\n",
              "\n",
              "    .colab-df-convert:hover {\n",
              "      background-color: #E2EBFA;\n",
              "      box-shadow: 0px 1px 2px rgba(60, 64, 67, 0.3), 0px 1px 3px 1px rgba(60, 64, 67, 0.15);\n",
              "      fill: #174EA6;\n",
              "    }\n",
              "\n",
              "    .colab-df-buttons div {\n",
              "      margin-bottom: 4px;\n",
              "    }\n",
              "\n",
              "    [theme=dark] .colab-df-convert {\n",
              "      background-color: #3B4455;\n",
              "      fill: #D2E3FC;\n",
              "    }\n",
              "\n",
              "    [theme=dark] .colab-df-convert:hover {\n",
              "      background-color: #434B5C;\n",
              "      box-shadow: 0px 1px 3px 1px rgba(0, 0, 0, 0.15);\n",
              "      filter: drop-shadow(0px 1px 2px rgba(0, 0, 0, 0.3));\n",
              "      fill: #FFFFFF;\n",
              "    }\n",
              "  </style>\n",
              "\n",
              "    <script>\n",
              "      const buttonEl =\n",
              "        document.querySelector('#df-377e6f47-18ae-4167-9805-d2902fb6ca03 button.colab-df-convert');\n",
              "      buttonEl.style.display =\n",
              "        google.colab.kernel.accessAllowed ? 'block' : 'none';\n",
              "\n",
              "      async function convertToInteractive(key) {\n",
              "        const element = document.querySelector('#df-377e6f47-18ae-4167-9805-d2902fb6ca03');\n",
              "        const dataTable =\n",
              "          await google.colab.kernel.invokeFunction('convertToInteractive',\n",
              "                                                    [key], {});\n",
              "        if (!dataTable) return;\n",
              "\n",
              "        const docLinkHtml = 'Like what you see? Visit the ' +\n",
              "          '<a target=\"_blank\" href=https://colab.research.google.com/notebooks/data_table.ipynb>data table notebook</a>'\n",
              "          + ' to learn more about interactive tables.';\n",
              "        element.innerHTML = '';\n",
              "        dataTable['output_type'] = 'display_data';\n",
              "        await google.colab.output.renderOutput(dataTable, element);\n",
              "        const docLink = document.createElement('div');\n",
              "        docLink.innerHTML = docLinkHtml;\n",
              "        element.appendChild(docLink);\n",
              "      }\n",
              "    </script>\n",
              "  </div>\n",
              "\n",
              "\n",
              "<div id=\"df-b634273c-dcb5-4ab6-9cd5-b7757db70e88\">\n",
              "  <button class=\"colab-df-quickchart\" onclick=\"quickchart('df-b634273c-dcb5-4ab6-9cd5-b7757db70e88')\"\n",
              "            title=\"Suggest charts\"\n",
              "            style=\"display:none;\">\n",
              "\n",
              "<svg xmlns=\"http://www.w3.org/2000/svg\" height=\"24px\"viewBox=\"0 0 24 24\"\n",
              "     width=\"24px\">\n",
              "    <g>\n",
              "        <path d=\"M19 3H5c-1.1 0-2 .9-2 2v14c0 1.1.9 2 2 2h14c1.1 0 2-.9 2-2V5c0-1.1-.9-2-2-2zM9 17H7v-7h2v7zm4 0h-2V7h2v10zm4 0h-2v-4h2v4z\"/>\n",
              "    </g>\n",
              "</svg>\n",
              "  </button>\n",
              "\n",
              "<style>\n",
              "  .colab-df-quickchart {\n",
              "      --bg-color: #E8F0FE;\n",
              "      --fill-color: #1967D2;\n",
              "      --hover-bg-color: #E2EBFA;\n",
              "      --hover-fill-color: #174EA6;\n",
              "      --disabled-fill-color: #AAA;\n",
              "      --disabled-bg-color: #DDD;\n",
              "  }\n",
              "\n",
              "  [theme=dark] .colab-df-quickchart {\n",
              "      --bg-color: #3B4455;\n",
              "      --fill-color: #D2E3FC;\n",
              "      --hover-bg-color: #434B5C;\n",
              "      --hover-fill-color: #FFFFFF;\n",
              "      --disabled-bg-color: #3B4455;\n",
              "      --disabled-fill-color: #666;\n",
              "  }\n",
              "\n",
              "  .colab-df-quickchart {\n",
              "    background-color: var(--bg-color);\n",
              "    border: none;\n",
              "    border-radius: 50%;\n",
              "    cursor: pointer;\n",
              "    display: none;\n",
              "    fill: var(--fill-color);\n",
              "    height: 32px;\n",
              "    padding: 0;\n",
              "    width: 32px;\n",
              "  }\n",
              "\n",
              "  .colab-df-quickchart:hover {\n",
              "    background-color: var(--hover-bg-color);\n",
              "    box-shadow: 0 1px 2px rgba(60, 64, 67, 0.3), 0 1px 3px 1px rgba(60, 64, 67, 0.15);\n",
              "    fill: var(--button-hover-fill-color);\n",
              "  }\n",
              "\n",
              "  .colab-df-quickchart-complete:disabled,\n",
              "  .colab-df-quickchart-complete:disabled:hover {\n",
              "    background-color: var(--disabled-bg-color);\n",
              "    fill: var(--disabled-fill-color);\n",
              "    box-shadow: none;\n",
              "  }\n",
              "\n",
              "  .colab-df-spinner {\n",
              "    border: 2px solid var(--fill-color);\n",
              "    border-color: transparent;\n",
              "    border-bottom-color: var(--fill-color);\n",
              "    animation:\n",
              "      spin 1s steps(1) infinite;\n",
              "  }\n",
              "\n",
              "  @keyframes spin {\n",
              "    0% {\n",
              "      border-color: transparent;\n",
              "      border-bottom-color: var(--fill-color);\n",
              "      border-left-color: var(--fill-color);\n",
              "    }\n",
              "    20% {\n",
              "      border-color: transparent;\n",
              "      border-left-color: var(--fill-color);\n",
              "      border-top-color: var(--fill-color);\n",
              "    }\n",
              "    30% {\n",
              "      border-color: transparent;\n",
              "      border-left-color: var(--fill-color);\n",
              "      border-top-color: var(--fill-color);\n",
              "      border-right-color: var(--fill-color);\n",
              "    }\n",
              "    40% {\n",
              "      border-color: transparent;\n",
              "      border-right-color: var(--fill-color);\n",
              "      border-top-color: var(--fill-color);\n",
              "    }\n",
              "    60% {\n",
              "      border-color: transparent;\n",
              "      border-right-color: var(--fill-color);\n",
              "    }\n",
              "    80% {\n",
              "      border-color: transparent;\n",
              "      border-right-color: var(--fill-color);\n",
              "      border-bottom-color: var(--fill-color);\n",
              "    }\n",
              "    90% {\n",
              "      border-color: transparent;\n",
              "      border-bottom-color: var(--fill-color);\n",
              "    }\n",
              "  }\n",
              "</style>\n",
              "\n",
              "  <script>\n",
              "    async function quickchart(key) {\n",
              "      const quickchartButtonEl =\n",
              "        document.querySelector('#' + key + ' button');\n",
              "      quickchartButtonEl.disabled = true;  // To prevent multiple clicks.\n",
              "      quickchartButtonEl.classList.add('colab-df-spinner');\n",
              "      try {\n",
              "        const charts = await google.colab.kernel.invokeFunction(\n",
              "            'suggestCharts', [key], {});\n",
              "      } catch (error) {\n",
              "        console.error('Error during call to suggestCharts:', error);\n",
              "      }\n",
              "      quickchartButtonEl.classList.remove('colab-df-spinner');\n",
              "      quickchartButtonEl.classList.add('colab-df-quickchart-complete');\n",
              "    }\n",
              "    (() => {\n",
              "      let quickchartButtonEl =\n",
              "        document.querySelector('#df-b634273c-dcb5-4ab6-9cd5-b7757db70e88 button');\n",
              "      quickchartButtonEl.style.display =\n",
              "        google.colab.kernel.accessAllowed ? 'block' : 'none';\n",
              "    })();\n",
              "  </script>\n",
              "</div>\n",
              "\n",
              "    </div>\n",
              "  </div>\n"
            ],
            "application/vnd.google.colaboratory.intrinsic+json": {
              "type": "dataframe",
              "variable_name": "data"
            }
          },
          "metadata": {},
          "execution_count": 69
        }
      ]
    },
    {
      "cell_type": "code",
      "source": [
        "datas.head()"
      ],
      "metadata": {
        "colab": {
          "base_uri": "https://localhost:8080/",
          "height": 287
        },
        "id": "w5_jt1SqsOaB",
        "outputId": "04d2c52f-2a9c-4b3f-e12e-20ae1a0a1d94"
      },
      "execution_count": null,
      "outputs": [
        {
          "output_type": "execute_result",
          "data": {
            "text/plain": [
              "   College sex  age address famsize Pstatus  Medu  Fedu     Mjob      Fjob  \\\n",
              "ID                                                                           \n",
              "1    IIITA   F   18       U     GT3       A     4     4  at_home   teacher   \n",
              "2    IIITA   F   17       U     GT3       T     1     1  at_home     other   \n",
              "3    IIITA   F   15       U     LE3       T     1     1  at_home     other   \n",
              "4    IIITA   F   15       U     GT3       T     4     2   health  services   \n",
              "5    IIITA   F   16       U     GT3       T     3     3    other     other   \n",
              "\n",
              "    ... internet romantic  famrel  freetime  goout Dalc Walc health absences  \\\n",
              "ID  ...                                                                        \n",
              "1   ...       no       no       4         3      4    1    1      3        6   \n",
              "2   ...      yes       no       5         3      3    1    1      3        4   \n",
              "3   ...      yes       no       4         3      2    2    3      3       10   \n",
              "4   ...      yes      yes       3         2      2    1    1      5        2   \n",
              "5   ...       no       no       4         3      2    1    2      5        4   \n",
              "\n",
              "    C1  \n",
              "ID      \n",
              "1    5  \n",
              "2    5  \n",
              "3    7  \n",
              "4   15  \n",
              "5    6  \n",
              "\n",
              "[5 rows x 31 columns]"
            ],
            "text/html": [
              "\n",
              "  <div id=\"df-ec24cc01-79a2-43e6-bc4e-1db1508defcc\" class=\"colab-df-container\">\n",
              "    <div>\n",
              "<style scoped>\n",
              "    .dataframe tbody tr th:only-of-type {\n",
              "        vertical-align: middle;\n",
              "    }\n",
              "\n",
              "    .dataframe tbody tr th {\n",
              "        vertical-align: top;\n",
              "    }\n",
              "\n",
              "    .dataframe thead th {\n",
              "        text-align: right;\n",
              "    }\n",
              "</style>\n",
              "<table border=\"1\" class=\"dataframe\">\n",
              "  <thead>\n",
              "    <tr style=\"text-align: right;\">\n",
              "      <th></th>\n",
              "      <th>College</th>\n",
              "      <th>sex</th>\n",
              "      <th>age</th>\n",
              "      <th>address</th>\n",
              "      <th>famsize</th>\n",
              "      <th>Pstatus</th>\n",
              "      <th>Medu</th>\n",
              "      <th>Fedu</th>\n",
              "      <th>Mjob</th>\n",
              "      <th>Fjob</th>\n",
              "      <th>...</th>\n",
              "      <th>internet</th>\n",
              "      <th>romantic</th>\n",
              "      <th>famrel</th>\n",
              "      <th>freetime</th>\n",
              "      <th>goout</th>\n",
              "      <th>Dalc</th>\n",
              "      <th>Walc</th>\n",
              "      <th>health</th>\n",
              "      <th>absences</th>\n",
              "      <th>C1</th>\n",
              "    </tr>\n",
              "    <tr>\n",
              "      <th>ID</th>\n",
              "      <th></th>\n",
              "      <th></th>\n",
              "      <th></th>\n",
              "      <th></th>\n",
              "      <th></th>\n",
              "      <th></th>\n",
              "      <th></th>\n",
              "      <th></th>\n",
              "      <th></th>\n",
              "      <th></th>\n",
              "      <th></th>\n",
              "      <th></th>\n",
              "      <th></th>\n",
              "      <th></th>\n",
              "      <th></th>\n",
              "      <th></th>\n",
              "      <th></th>\n",
              "      <th></th>\n",
              "      <th></th>\n",
              "      <th></th>\n",
              "      <th></th>\n",
              "    </tr>\n",
              "  </thead>\n",
              "  <tbody>\n",
              "    <tr>\n",
              "      <th>1</th>\n",
              "      <td>IIITA</td>\n",
              "      <td>F</td>\n",
              "      <td>18</td>\n",
              "      <td>U</td>\n",
              "      <td>GT3</td>\n",
              "      <td>A</td>\n",
              "      <td>4</td>\n",
              "      <td>4</td>\n",
              "      <td>at_home</td>\n",
              "      <td>teacher</td>\n",
              "      <td>...</td>\n",
              "      <td>no</td>\n",
              "      <td>no</td>\n",
              "      <td>4</td>\n",
              "      <td>3</td>\n",
              "      <td>4</td>\n",
              "      <td>1</td>\n",
              "      <td>1</td>\n",
              "      <td>3</td>\n",
              "      <td>6</td>\n",
              "      <td>5</td>\n",
              "    </tr>\n",
              "    <tr>\n",
              "      <th>2</th>\n",
              "      <td>IIITA</td>\n",
              "      <td>F</td>\n",
              "      <td>17</td>\n",
              "      <td>U</td>\n",
              "      <td>GT3</td>\n",
              "      <td>T</td>\n",
              "      <td>1</td>\n",
              "      <td>1</td>\n",
              "      <td>at_home</td>\n",
              "      <td>other</td>\n",
              "      <td>...</td>\n",
              "      <td>yes</td>\n",
              "      <td>no</td>\n",
              "      <td>5</td>\n",
              "      <td>3</td>\n",
              "      <td>3</td>\n",
              "      <td>1</td>\n",
              "      <td>1</td>\n",
              "      <td>3</td>\n",
              "      <td>4</td>\n",
              "      <td>5</td>\n",
              "    </tr>\n",
              "    <tr>\n",
              "      <th>3</th>\n",
              "      <td>IIITA</td>\n",
              "      <td>F</td>\n",
              "      <td>15</td>\n",
              "      <td>U</td>\n",
              "      <td>LE3</td>\n",
              "      <td>T</td>\n",
              "      <td>1</td>\n",
              "      <td>1</td>\n",
              "      <td>at_home</td>\n",
              "      <td>other</td>\n",
              "      <td>...</td>\n",
              "      <td>yes</td>\n",
              "      <td>no</td>\n",
              "      <td>4</td>\n",
              "      <td>3</td>\n",
              "      <td>2</td>\n",
              "      <td>2</td>\n",
              "      <td>3</td>\n",
              "      <td>3</td>\n",
              "      <td>10</td>\n",
              "      <td>7</td>\n",
              "    </tr>\n",
              "    <tr>\n",
              "      <th>4</th>\n",
              "      <td>IIITA</td>\n",
              "      <td>F</td>\n",
              "      <td>15</td>\n",
              "      <td>U</td>\n",
              "      <td>GT3</td>\n",
              "      <td>T</td>\n",
              "      <td>4</td>\n",
              "      <td>2</td>\n",
              "      <td>health</td>\n",
              "      <td>services</td>\n",
              "      <td>...</td>\n",
              "      <td>yes</td>\n",
              "      <td>yes</td>\n",
              "      <td>3</td>\n",
              "      <td>2</td>\n",
              "      <td>2</td>\n",
              "      <td>1</td>\n",
              "      <td>1</td>\n",
              "      <td>5</td>\n",
              "      <td>2</td>\n",
              "      <td>15</td>\n",
              "    </tr>\n",
              "    <tr>\n",
              "      <th>5</th>\n",
              "      <td>IIITA</td>\n",
              "      <td>F</td>\n",
              "      <td>16</td>\n",
              "      <td>U</td>\n",
              "      <td>GT3</td>\n",
              "      <td>T</td>\n",
              "      <td>3</td>\n",
              "      <td>3</td>\n",
              "      <td>other</td>\n",
              "      <td>other</td>\n",
              "      <td>...</td>\n",
              "      <td>no</td>\n",
              "      <td>no</td>\n",
              "      <td>4</td>\n",
              "      <td>3</td>\n",
              "      <td>2</td>\n",
              "      <td>1</td>\n",
              "      <td>2</td>\n",
              "      <td>5</td>\n",
              "      <td>4</td>\n",
              "      <td>6</td>\n",
              "    </tr>\n",
              "  </tbody>\n",
              "</table>\n",
              "<p>5 rows × 31 columns</p>\n",
              "</div>\n",
              "    <div class=\"colab-df-buttons\">\n",
              "\n",
              "  <div class=\"colab-df-container\">\n",
              "    <button class=\"colab-df-convert\" onclick=\"convertToInteractive('df-ec24cc01-79a2-43e6-bc4e-1db1508defcc')\"\n",
              "            title=\"Convert this dataframe to an interactive table.\"\n",
              "            style=\"display:none;\">\n",
              "\n",
              "  <svg xmlns=\"http://www.w3.org/2000/svg\" height=\"24px\" viewBox=\"0 -960 960 960\">\n",
              "    <path d=\"M120-120v-720h720v720H120Zm60-500h600v-160H180v160Zm220 220h160v-160H400v160Zm0 220h160v-160H400v160ZM180-400h160v-160H180v160Zm440 0h160v-160H620v160ZM180-180h160v-160H180v160Zm440 0h160v-160H620v160Z\"/>\n",
              "  </svg>\n",
              "    </button>\n",
              "\n",
              "  <style>\n",
              "    .colab-df-container {\n",
              "      display:flex;\n",
              "      gap: 12px;\n",
              "    }\n",
              "\n",
              "    .colab-df-convert {\n",
              "      background-color: #E8F0FE;\n",
              "      border: none;\n",
              "      border-radius: 50%;\n",
              "      cursor: pointer;\n",
              "      display: none;\n",
              "      fill: #1967D2;\n",
              "      height: 32px;\n",
              "      padding: 0 0 0 0;\n",
              "      width: 32px;\n",
              "    }\n",
              "\n",
              "    .colab-df-convert:hover {\n",
              "      background-color: #E2EBFA;\n",
              "      box-shadow: 0px 1px 2px rgba(60, 64, 67, 0.3), 0px 1px 3px 1px rgba(60, 64, 67, 0.15);\n",
              "      fill: #174EA6;\n",
              "    }\n",
              "\n",
              "    .colab-df-buttons div {\n",
              "      margin-bottom: 4px;\n",
              "    }\n",
              "\n",
              "    [theme=dark] .colab-df-convert {\n",
              "      background-color: #3B4455;\n",
              "      fill: #D2E3FC;\n",
              "    }\n",
              "\n",
              "    [theme=dark] .colab-df-convert:hover {\n",
              "      background-color: #434B5C;\n",
              "      box-shadow: 0px 1px 3px 1px rgba(0, 0, 0, 0.15);\n",
              "      filter: drop-shadow(0px 1px 2px rgba(0, 0, 0, 0.3));\n",
              "      fill: #FFFFFF;\n",
              "    }\n",
              "  </style>\n",
              "\n",
              "    <script>\n",
              "      const buttonEl =\n",
              "        document.querySelector('#df-ec24cc01-79a2-43e6-bc4e-1db1508defcc button.colab-df-convert');\n",
              "      buttonEl.style.display =\n",
              "        google.colab.kernel.accessAllowed ? 'block' : 'none';\n",
              "\n",
              "      async function convertToInteractive(key) {\n",
              "        const element = document.querySelector('#df-ec24cc01-79a2-43e6-bc4e-1db1508defcc');\n",
              "        const dataTable =\n",
              "          await google.colab.kernel.invokeFunction('convertToInteractive',\n",
              "                                                    [key], {});\n",
              "        if (!dataTable) return;\n",
              "\n",
              "        const docLinkHtml = 'Like what you see? Visit the ' +\n",
              "          '<a target=\"_blank\" href=https://colab.research.google.com/notebooks/data_table.ipynb>data table notebook</a>'\n",
              "          + ' to learn more about interactive tables.';\n",
              "        element.innerHTML = '';\n",
              "        dataTable['output_type'] = 'display_data';\n",
              "        await google.colab.output.renderOutput(dataTable, element);\n",
              "        const docLink = document.createElement('div');\n",
              "        docLink.innerHTML = docLinkHtml;\n",
              "        element.appendChild(docLink);\n",
              "      }\n",
              "    </script>\n",
              "  </div>\n",
              "\n",
              "\n",
              "<div id=\"df-5cbb4a70-67f6-44e7-84e6-8a8ea0a347a3\">\n",
              "  <button class=\"colab-df-quickchart\" onclick=\"quickchart('df-5cbb4a70-67f6-44e7-84e6-8a8ea0a347a3')\"\n",
              "            title=\"Suggest charts\"\n",
              "            style=\"display:none;\">\n",
              "\n",
              "<svg xmlns=\"http://www.w3.org/2000/svg\" height=\"24px\"viewBox=\"0 0 24 24\"\n",
              "     width=\"24px\">\n",
              "    <g>\n",
              "        <path d=\"M19 3H5c-1.1 0-2 .9-2 2v14c0 1.1.9 2 2 2h14c1.1 0 2-.9 2-2V5c0-1.1-.9-2-2-2zM9 17H7v-7h2v7zm4 0h-2V7h2v10zm4 0h-2v-4h2v4z\"/>\n",
              "    </g>\n",
              "</svg>\n",
              "  </button>\n",
              "\n",
              "<style>\n",
              "  .colab-df-quickchart {\n",
              "      --bg-color: #E8F0FE;\n",
              "      --fill-color: #1967D2;\n",
              "      --hover-bg-color: #E2EBFA;\n",
              "      --hover-fill-color: #174EA6;\n",
              "      --disabled-fill-color: #AAA;\n",
              "      --disabled-bg-color: #DDD;\n",
              "  }\n",
              "\n",
              "  [theme=dark] .colab-df-quickchart {\n",
              "      --bg-color: #3B4455;\n",
              "      --fill-color: #D2E3FC;\n",
              "      --hover-bg-color: #434B5C;\n",
              "      --hover-fill-color: #FFFFFF;\n",
              "      --disabled-bg-color: #3B4455;\n",
              "      --disabled-fill-color: #666;\n",
              "  }\n",
              "\n",
              "  .colab-df-quickchart {\n",
              "    background-color: var(--bg-color);\n",
              "    border: none;\n",
              "    border-radius: 50%;\n",
              "    cursor: pointer;\n",
              "    display: none;\n",
              "    fill: var(--fill-color);\n",
              "    height: 32px;\n",
              "    padding: 0;\n",
              "    width: 32px;\n",
              "  }\n",
              "\n",
              "  .colab-df-quickchart:hover {\n",
              "    background-color: var(--hover-bg-color);\n",
              "    box-shadow: 0 1px 2px rgba(60, 64, 67, 0.3), 0 1px 3px 1px rgba(60, 64, 67, 0.15);\n",
              "    fill: var(--button-hover-fill-color);\n",
              "  }\n",
              "\n",
              "  .colab-df-quickchart-complete:disabled,\n",
              "  .colab-df-quickchart-complete:disabled:hover {\n",
              "    background-color: var(--disabled-bg-color);\n",
              "    fill: var(--disabled-fill-color);\n",
              "    box-shadow: none;\n",
              "  }\n",
              "\n",
              "  .colab-df-spinner {\n",
              "    border: 2px solid var(--fill-color);\n",
              "    border-color: transparent;\n",
              "    border-bottom-color: var(--fill-color);\n",
              "    animation:\n",
              "      spin 1s steps(1) infinite;\n",
              "  }\n",
              "\n",
              "  @keyframes spin {\n",
              "    0% {\n",
              "      border-color: transparent;\n",
              "      border-bottom-color: var(--fill-color);\n",
              "      border-left-color: var(--fill-color);\n",
              "    }\n",
              "    20% {\n",
              "      border-color: transparent;\n",
              "      border-left-color: var(--fill-color);\n",
              "      border-top-color: var(--fill-color);\n",
              "    }\n",
              "    30% {\n",
              "      border-color: transparent;\n",
              "      border-left-color: var(--fill-color);\n",
              "      border-top-color: var(--fill-color);\n",
              "      border-right-color: var(--fill-color);\n",
              "    }\n",
              "    40% {\n",
              "      border-color: transparent;\n",
              "      border-right-color: var(--fill-color);\n",
              "      border-top-color: var(--fill-color);\n",
              "    }\n",
              "    60% {\n",
              "      border-color: transparent;\n",
              "      border-right-color: var(--fill-color);\n",
              "    }\n",
              "    80% {\n",
              "      border-color: transparent;\n",
              "      border-right-color: var(--fill-color);\n",
              "      border-bottom-color: var(--fill-color);\n",
              "    }\n",
              "    90% {\n",
              "      border-color: transparent;\n",
              "      border-bottom-color: var(--fill-color);\n",
              "    }\n",
              "  }\n",
              "</style>\n",
              "\n",
              "  <script>\n",
              "    async function quickchart(key) {\n",
              "      const quickchartButtonEl =\n",
              "        document.querySelector('#' + key + ' button');\n",
              "      quickchartButtonEl.disabled = true;  // To prevent multiple clicks.\n",
              "      quickchartButtonEl.classList.add('colab-df-spinner');\n",
              "      try {\n",
              "        const charts = await google.colab.kernel.invokeFunction(\n",
              "            'suggestCharts', [key], {});\n",
              "      } catch (error) {\n",
              "        console.error('Error during call to suggestCharts:', error);\n",
              "      }\n",
              "      quickchartButtonEl.classList.remove('colab-df-spinner');\n",
              "      quickchartButtonEl.classList.add('colab-df-quickchart-complete');\n",
              "    }\n",
              "    (() => {\n",
              "      let quickchartButtonEl =\n",
              "        document.querySelector('#df-5cbb4a70-67f6-44e7-84e6-8a8ea0a347a3 button');\n",
              "      quickchartButtonEl.style.display =\n",
              "        google.colab.kernel.accessAllowed ? 'block' : 'none';\n",
              "    })();\n",
              "  </script>\n",
              "</div>\n",
              "\n",
              "    </div>\n",
              "  </div>\n"
            ],
            "application/vnd.google.colaboratory.intrinsic+json": {
              "type": "dataframe",
              "variable_name": "datas"
            }
          },
          "metadata": {},
          "execution_count": 70
        }
      ]
    },
    {
      "cell_type": "code",
      "source": [
        "print( data.shape )\n",
        "print( datas.shape )\n",
        "# CHECKING FOR NO. OF COLUMNS AND ROWS IN THE DATASET"
      ],
      "metadata": {
        "colab": {
          "base_uri": "https://localhost:8080/"
        },
        "id": "GSJn_NJqsV3V",
        "outputId": "2c8d8987-9883-498c-966e-92b616a9f61e"
      },
      "execution_count": null,
      "outputs": [
        {
          "output_type": "stream",
          "name": "stdout",
          "text": [
            "(651, 32)\n",
            "(397, 31)\n"
          ]
        }
      ]
    },
    {
      "cell_type": "code",
      "source": [
        "null_values = data.isnull().sum()\n",
        "print( null_values )\n",
        "#CHECKING FOR THE NULL VALUES WHETHER TO APPLY simpleimputer to replace the dataset from the column or delete it if it is insufficient"
      ],
      "metadata": {
        "colab": {
          "base_uri": "https://localhost:8080/"
        },
        "id": "mB4M-2EJsaTq",
        "outputId": "2fc82e5e-fc68-4b34-aaad-7c3106f8b57a"
      },
      "execution_count": null,
      "outputs": [
        {
          "output_type": "stream",
          "name": "stdout",
          "text": [
            "College       130\n",
            "sex             0\n",
            "age             0\n",
            "address         0\n",
            "famsize         0\n",
            "Pstatus         0\n",
            "Medu            0\n",
            "Fedu            0\n",
            "Mjob            0\n",
            "Fjob            0\n",
            "reason          0\n",
            "guardian        0\n",
            "traveltime      0\n",
            "studytime       0\n",
            "failures        0\n",
            "schoolsup       0\n",
            "famsup          0\n",
            "paid            0\n",
            "activities      0\n",
            "nursery         0\n",
            "higher          0\n",
            "internet        0\n",
            "romantic        0\n",
            "famrel          0\n",
            "freetime        0\n",
            "goout           0\n",
            "Dalc            0\n",
            "Walc            0\n",
            "health          0\n",
            "absences        0\n",
            "C1              0\n",
            "CGPA            0\n",
            "dtype: int64\n"
          ]
        }
      ]
    },
    {
      "cell_type": "code",
      "source": [
        "null_values = datas.isnull().sum()\n",
        "print( null_values )"
      ],
      "metadata": {
        "colab": {
          "base_uri": "https://localhost:8080/"
        },
        "id": "roIGCOJLsd9u",
        "outputId": "a715f204-5071-4d83-a1ee-3166273576d5"
      },
      "execution_count": null,
      "outputs": [
        {
          "output_type": "stream",
          "name": "stdout",
          "text": [
            "College       0\n",
            "sex           0\n",
            "age           0\n",
            "address       0\n",
            "famsize       0\n",
            "Pstatus       0\n",
            "Medu          0\n",
            "Fedu          0\n",
            "Mjob          0\n",
            "Fjob          0\n",
            "reason        0\n",
            "guardian      0\n",
            "traveltime    0\n",
            "studytime     0\n",
            "failures      0\n",
            "schoolsup     0\n",
            "famsup        0\n",
            "paid          0\n",
            "activities    0\n",
            "nursery       0\n",
            "higher        0\n",
            "internet      0\n",
            "romantic      0\n",
            "famrel        0\n",
            "freetime      0\n",
            "goout         0\n",
            "Dalc          0\n",
            "Walc          0\n",
            "health        0\n",
            "absences      0\n",
            "C1            0\n",
            "dtype: int64\n"
          ]
        }
      ]
    },
    {
      "cell_type": "code",
      "source": [
        "data.info()"
      ],
      "metadata": {
        "colab": {
          "base_uri": "https://localhost:8080/"
        },
        "id": "hewCaQAAsgsl",
        "outputId": "158d83c0-012a-47f5-b494-781c8e65e58a"
      },
      "execution_count": null,
      "outputs": [
        {
          "output_type": "stream",
          "name": "stdout",
          "text": [
            "<class 'pandas.core.frame.DataFrame'>\n",
            "Int64Index: 651 entries, 1 to 651\n",
            "Data columns (total 32 columns):\n",
            " #   Column      Non-Null Count  Dtype  \n",
            "---  ------      --------------  -----  \n",
            " 0   College     521 non-null    object \n",
            " 1   sex         651 non-null    object \n",
            " 2   age         651 non-null    int64  \n",
            " 3   address     651 non-null    object \n",
            " 4   famsize     651 non-null    object \n",
            " 5   Pstatus     651 non-null    object \n",
            " 6   Medu        651 non-null    int64  \n",
            " 7   Fedu        651 non-null    int64  \n",
            " 8   Mjob        651 non-null    object \n",
            " 9   Fjob        651 non-null    object \n",
            " 10  reason      651 non-null    object \n",
            " 11  guardian    651 non-null    object \n",
            " 12  traveltime  651 non-null    int64  \n",
            " 13  studytime   651 non-null    int64  \n",
            " 14  failures    651 non-null    int64  \n",
            " 15  schoolsup   651 non-null    object \n",
            " 16  famsup      651 non-null    object \n",
            " 17  paid        651 non-null    object \n",
            " 18  activities  651 non-null    object \n",
            " 19  nursery     651 non-null    object \n",
            " 20  higher      651 non-null    object \n",
            " 21  internet    651 non-null    object \n",
            " 22  romantic    651 non-null    object \n",
            " 23  famrel      651 non-null    int64  \n",
            " 24  freetime    651 non-null    int64  \n",
            " 25  goout       651 non-null    int64  \n",
            " 26  Dalc        651 non-null    int64  \n",
            " 27  Walc        651 non-null    int64  \n",
            " 28  health      651 non-null    int64  \n",
            " 29  absences    651 non-null    int64  \n",
            " 30  C1          651 non-null    int64  \n",
            " 31  CGPA        651 non-null    float64\n",
            "dtypes: float64(1), int64(14), object(17)\n",
            "memory usage: 167.8+ KB\n"
          ]
        }
      ]
    },
    {
      "cell_type": "code",
      "source": [
        "df = pd.DataFrame( data )\n",
        "for column in df.columns:\n",
        "    unique_values = df[column].unique()\n",
        "    print(f\"Unique values of {column}: {unique_values}\")\n",
        "\n",
        "\n",
        "#AS THE DATASET COLLEGE HAS ONE UNIQUE VALUE SO WE DELETED IT INSTEAD OF TAKING CARE OF MISSING DATA"
      ],
      "metadata": {
        "colab": {
          "base_uri": "https://localhost:8080/"
        },
        "id": "rdzqHFX4sjXm",
        "outputId": "25e6e2c4-d759-4b07-84b3-ff5e74b134e7"
      },
      "execution_count": null,
      "outputs": [
        {
          "output_type": "stream",
          "name": "stdout",
          "text": [
            "Unique values of College: ['IIITA' nan]\n",
            "Unique values of sex: ['M' 'F']\n",
            "Unique values of age: [17 20 16 18 15 19 21 22]\n",
            "Unique values of address: ['R' 'U']\n",
            "Unique values of famsize: ['LE3' 'GT3']\n",
            "Unique values of Pstatus: ['T' 'A']\n",
            "Unique values of Medu: [2 4 1 3 0]\n",
            "Unique values of Fedu: [1 3 2 0 4]\n",
            "Unique values of Mjob: ['at_home' 'other' 'services' 'teacher' 'health']\n",
            "Unique values of Fjob: ['other' 'at_home' 'services' 'health' 'teacher']\n",
            "Unique values of reason: ['course' 'reputation' 'other' 'home']\n",
            "Unique values of guardian: ['mother' 'other' 'father']\n",
            "Unique values of traveltime: [2 1 4 3]\n",
            "Unique values of studytime: [1 2 3 4]\n",
            "Unique values of failures: [1 0 2 3]\n",
            "Unique values of schoolsup: ['no' 'yes']\n",
            "Unique values of famsup: ['no' 'yes']\n",
            "Unique values of paid: ['yes' 'no']\n",
            "Unique values of activities: ['yes' 'no']\n",
            "Unique values of nursery: ['yes' 'no']\n",
            "Unique values of higher: ['no' 'yes']\n",
            "Unique values of internet: ['yes' 'no']\n",
            "Unique values of romantic: ['yes' 'no']\n",
            "Unique values of famrel: [3 5 4 1 2]\n",
            "Unique values of freetime: [3 2 5 4 1]\n",
            "Unique values of goout: [2 3 1 4 5]\n",
            "Unique values of Dalc: [2 1 3 4 5]\n",
            "Unique values of Walc: [2 1 3 4 5]\n",
            "Unique values of health: [5 2 3 1 4]\n",
            "Unique values of absences: [ 8  4  0  2 10  6 14 12  1  5 11  9  3 16 26 22 15 24 32 21  7 30 18 13]\n",
            "Unique values of C1: [ 8 11 16 15 14 10  9 13 12 18  7  4  6 17  5 19  0]\n",
            "Unique values of CGPA: [ 4.65608466  6.66666667  8.46560847  7.88359788  5.23809524  5.29100529\n",
            "  6.82539683  9.36507937  0.79365079  5.82010582  6.77248677  6.71957672\n",
            "  7.77777778  5.60846561  9.52380952  5.13227513  6.71957672  4.12698413\n",
            "  8.35978836  4.28571429  0.21164021  5.18518519  5.92592593  6.87830688\n",
            "  4.33862434  6.2962963   5.76719577  6.93121693  6.4021164   7.93650794\n",
            "  3.7037037   7.3015873   7.40740741  7.24867725  7.35449735  4.07407407\n",
            "  8.25396825  8.30687831  7.83068783  5.3968254   5.71428571  6.08465608\n",
            "  4.81481481  5.07936508  5.34391534  8.83597884  6.24338624  4.76190476\n",
            "  3.75661376  5.66137566  8.41269841  9.47089947  4.17989418  8.88888889\n",
            "  6.50793651  6.34920635  6.19047619  1.48148148  8.2010582   5.87301587\n",
            "  8.94179894  3.38624339  6.61375661  0.42328042  4.23280423  4.07407407\n",
            "  7.98941799  7.72486772  4.70899471  9.04761905  3.5978836   7.1957672\n",
            "  7.14285714  7.61904762  3.65079365  8.78306878  4.6031746   0.74074074\n",
            "  0.37037037  0.26455026  8.73015873  0.47619048  7.51322751  8.99470899\n",
            "  3.80952381  7.08994709  5.55555556  9.41798942  5.02645503  0.63492063\n",
            "  2.91005291  6.13756614  7.46031746  6.45502646  3.12169312  9.89417989\n",
            "  3.33333333  0.84656085  7.67195767  5.44973545  4.86772487  0.68783069\n",
            "  3.49206349  4.02116402 10.          9.1005291   1.05820106  8.51851852\n",
            "  6.98412698  4.55026455  7.98941799  4.39153439]\n"
          ]
        }
      ]
    },
    {
      "cell_type": "code",
      "source": [
        "df = pd.DataFrame( datas )\n",
        "\n",
        "for column in df.columns:\n",
        "    unique_values = df[column].unique()\n",
        "    print(f\"Unique values of {column}: {unique_values}\")"
      ],
      "metadata": {
        "colab": {
          "base_uri": "https://localhost:8080/"
        },
        "id": "6qN3W8jKskLM",
        "outputId": "b6118a07-d1fb-4611-9d3e-2758d9228c08"
      },
      "execution_count": null,
      "outputs": [
        {
          "output_type": "stream",
          "name": "stdout",
          "text": [
            "Unique values of College: ['IIITA']\n",
            "Unique values of sex: ['F' 'M']\n",
            "Unique values of age: [18 17 15 16 19 22 20 21]\n",
            "Unique values of address: ['U' 'R']\n",
            "Unique values of famsize: ['GT3' 'LE3']\n",
            "Unique values of Pstatus: ['A' 'T']\n",
            "Unique values of Medu: [4 1 3 2 0]\n",
            "Unique values of Fedu: [4 1 2 3 0]\n",
            "Unique values of Mjob: ['at_home' 'health' 'other' 'services' 'teacher']\n",
            "Unique values of Fjob: ['teacher' 'other' 'services' 'health' 'at_home']\n",
            "Unique values of reason: ['course' 'other' 'home' 'reputation']\n",
            "Unique values of guardian: ['mother' 'father' 'other']\n",
            "Unique values of traveltime: [2 1 3 4]\n",
            "Unique values of studytime: [2 3 1 4]\n",
            "Unique values of failures: [0 3 2 1]\n",
            "Unique values of schoolsup: ['yes' 'no']\n",
            "Unique values of famsup: ['no' 'yes']\n",
            "Unique values of paid: ['no' 'yes']\n",
            "Unique values of activities: ['no' 'yes']\n",
            "Unique values of nursery: ['yes' 'no']\n",
            "Unique values of higher: ['yes' 'no']\n",
            "Unique values of internet: ['no' 'yes']\n",
            "Unique values of romantic: ['no' 'yes']\n",
            "Unique values of famrel: [4 5 3 1 2]\n",
            "Unique values of freetime: [3 2 4 1 5]\n",
            "Unique values of goout: [4 3 2 1 5]\n",
            "Unique values of Dalc: [1 2 5 3 4]\n",
            "Unique values of Walc: [1 3 2 4 5]\n",
            "Unique values of health: [3 5 1 2 4]\n",
            "Unique values of absences: [ 6  4 10  2  0 16 14  7  8 25 12 54 18 26 20 56 24 28  5 13 15 22  3 21\n",
            "  1 75 30 19  9 11 38 40 23 17]\n",
            "Unique values of C1: [ 5  7 15  6 12 16 14 10 13  8 11  9 17 19 18  4  3]\n"
          ]
        }
      ]
    },
    {
      "cell_type": "code",
      "source": [
        "data.drop( columns=[ 'College' ] , inplace=True )\n",
        "datas.drop( columns=[ 'College' ] , inplace=True )"
      ],
      "metadata": {
        "id": "J3j7mIb4snWy"
      },
      "execution_count": null,
      "outputs": []
    },
    {
      "cell_type": "code",
      "source": [
        "data.describe()"
      ],
      "metadata": {
        "colab": {
          "base_uri": "https://localhost:8080/",
          "height": 320
        },
        "id": "EFP6-367suFi",
        "outputId": "defe33eb-758b-4b18-b09d-3453306c17e5"
      },
      "execution_count": null,
      "outputs": [
        {
          "output_type": "execute_result",
          "data": {
            "text/plain": [
              "              age        Medu        Fedu  traveltime   studytime    failures  \\\n",
              "count  651.000000  651.000000  651.000000  651.000000  651.000000  651.000000   \n",
              "mean    16.745008    2.516129    2.308756    1.569892    1.930876    0.221198   \n",
              "std      1.217609    1.134481    1.100308    0.747889    0.828241    0.592449   \n",
              "min     15.000000    0.000000    0.000000    1.000000    1.000000    0.000000   \n",
              "25%     16.000000    2.000000    1.000000    1.000000    1.000000    0.000000   \n",
              "50%     17.000000    2.000000    2.000000    1.000000    2.000000    0.000000   \n",
              "75%     18.000000    4.000000    3.000000    2.000000    2.000000    0.000000   \n",
              "max     22.000000    4.000000    4.000000    4.000000    4.000000    3.000000   \n",
              "\n",
              "           famrel   freetime       goout        Dalc        Walc      health  \\\n",
              "count  651.000000  651.00000  651.000000  651.000000  651.000000  651.000000   \n",
              "mean     3.930876    3.18126    3.187404    1.500768    2.276498    3.537634   \n",
              "std      0.954253    1.04999    1.174824    0.923830    1.284362    1.445326   \n",
              "min      1.000000    1.00000    1.000000    1.000000    1.000000    1.000000   \n",
              "25%      4.000000    3.00000    2.000000    1.000000    1.000000    2.000000   \n",
              "50%      4.000000    3.00000    3.000000    1.000000    2.000000    4.000000   \n",
              "75%      5.000000    4.00000    4.000000    2.000000    3.000000    5.000000   \n",
              "max      5.000000    5.00000    5.000000    5.000000    5.000000    5.000000   \n",
              "\n",
              "         absences          C1        CGPA  \n",
              "count  651.000000  651.000000  651.000000  \n",
              "mean     3.654378   11.382488    6.253464  \n",
              "std      4.635853    2.777315    1.631730  \n",
              "min      0.000000    0.000000    0.211640  \n",
              "25%      0.000000   10.000000    5.291005  \n",
              "50%      2.000000   11.000000    6.243386  \n",
              "75%      6.000000   13.000000    7.301587  \n",
              "max     32.000000   19.000000   10.000000  "
            ],
            "text/html": [
              "\n",
              "  <div id=\"df-d4fff231-74d8-4a15-b663-ebb23ae6531c\" class=\"colab-df-container\">\n",
              "    <div>\n",
              "<style scoped>\n",
              "    .dataframe tbody tr th:only-of-type {\n",
              "        vertical-align: middle;\n",
              "    }\n",
              "\n",
              "    .dataframe tbody tr th {\n",
              "        vertical-align: top;\n",
              "    }\n",
              "\n",
              "    .dataframe thead th {\n",
              "        text-align: right;\n",
              "    }\n",
              "</style>\n",
              "<table border=\"1\" class=\"dataframe\">\n",
              "  <thead>\n",
              "    <tr style=\"text-align: right;\">\n",
              "      <th></th>\n",
              "      <th>age</th>\n",
              "      <th>Medu</th>\n",
              "      <th>Fedu</th>\n",
              "      <th>traveltime</th>\n",
              "      <th>studytime</th>\n",
              "      <th>failures</th>\n",
              "      <th>famrel</th>\n",
              "      <th>freetime</th>\n",
              "      <th>goout</th>\n",
              "      <th>Dalc</th>\n",
              "      <th>Walc</th>\n",
              "      <th>health</th>\n",
              "      <th>absences</th>\n",
              "      <th>C1</th>\n",
              "      <th>CGPA</th>\n",
              "    </tr>\n",
              "  </thead>\n",
              "  <tbody>\n",
              "    <tr>\n",
              "      <th>count</th>\n",
              "      <td>651.000000</td>\n",
              "      <td>651.000000</td>\n",
              "      <td>651.000000</td>\n",
              "      <td>651.000000</td>\n",
              "      <td>651.000000</td>\n",
              "      <td>651.000000</td>\n",
              "      <td>651.000000</td>\n",
              "      <td>651.00000</td>\n",
              "      <td>651.000000</td>\n",
              "      <td>651.000000</td>\n",
              "      <td>651.000000</td>\n",
              "      <td>651.000000</td>\n",
              "      <td>651.000000</td>\n",
              "      <td>651.000000</td>\n",
              "      <td>651.000000</td>\n",
              "    </tr>\n",
              "    <tr>\n",
              "      <th>mean</th>\n",
              "      <td>16.745008</td>\n",
              "      <td>2.516129</td>\n",
              "      <td>2.308756</td>\n",
              "      <td>1.569892</td>\n",
              "      <td>1.930876</td>\n",
              "      <td>0.221198</td>\n",
              "      <td>3.930876</td>\n",
              "      <td>3.18126</td>\n",
              "      <td>3.187404</td>\n",
              "      <td>1.500768</td>\n",
              "      <td>2.276498</td>\n",
              "      <td>3.537634</td>\n",
              "      <td>3.654378</td>\n",
              "      <td>11.382488</td>\n",
              "      <td>6.253464</td>\n",
              "    </tr>\n",
              "    <tr>\n",
              "      <th>std</th>\n",
              "      <td>1.217609</td>\n",
              "      <td>1.134481</td>\n",
              "      <td>1.100308</td>\n",
              "      <td>0.747889</td>\n",
              "      <td>0.828241</td>\n",
              "      <td>0.592449</td>\n",
              "      <td>0.954253</td>\n",
              "      <td>1.04999</td>\n",
              "      <td>1.174824</td>\n",
              "      <td>0.923830</td>\n",
              "      <td>1.284362</td>\n",
              "      <td>1.445326</td>\n",
              "      <td>4.635853</td>\n",
              "      <td>2.777315</td>\n",
              "      <td>1.631730</td>\n",
              "    </tr>\n",
              "    <tr>\n",
              "      <th>min</th>\n",
              "      <td>15.000000</td>\n",
              "      <td>0.000000</td>\n",
              "      <td>0.000000</td>\n",
              "      <td>1.000000</td>\n",
              "      <td>1.000000</td>\n",
              "      <td>0.000000</td>\n",
              "      <td>1.000000</td>\n",
              "      <td>1.00000</td>\n",
              "      <td>1.000000</td>\n",
              "      <td>1.000000</td>\n",
              "      <td>1.000000</td>\n",
              "      <td>1.000000</td>\n",
              "      <td>0.000000</td>\n",
              "      <td>0.000000</td>\n",
              "      <td>0.211640</td>\n",
              "    </tr>\n",
              "    <tr>\n",
              "      <th>25%</th>\n",
              "      <td>16.000000</td>\n",
              "      <td>2.000000</td>\n",
              "      <td>1.000000</td>\n",
              "      <td>1.000000</td>\n",
              "      <td>1.000000</td>\n",
              "      <td>0.000000</td>\n",
              "      <td>4.000000</td>\n",
              "      <td>3.00000</td>\n",
              "      <td>2.000000</td>\n",
              "      <td>1.000000</td>\n",
              "      <td>1.000000</td>\n",
              "      <td>2.000000</td>\n",
              "      <td>0.000000</td>\n",
              "      <td>10.000000</td>\n",
              "      <td>5.291005</td>\n",
              "    </tr>\n",
              "    <tr>\n",
              "      <th>50%</th>\n",
              "      <td>17.000000</td>\n",
              "      <td>2.000000</td>\n",
              "      <td>2.000000</td>\n",
              "      <td>1.000000</td>\n",
              "      <td>2.000000</td>\n",
              "      <td>0.000000</td>\n",
              "      <td>4.000000</td>\n",
              "      <td>3.00000</td>\n",
              "      <td>3.000000</td>\n",
              "      <td>1.000000</td>\n",
              "      <td>2.000000</td>\n",
              "      <td>4.000000</td>\n",
              "      <td>2.000000</td>\n",
              "      <td>11.000000</td>\n",
              "      <td>6.243386</td>\n",
              "    </tr>\n",
              "    <tr>\n",
              "      <th>75%</th>\n",
              "      <td>18.000000</td>\n",
              "      <td>4.000000</td>\n",
              "      <td>3.000000</td>\n",
              "      <td>2.000000</td>\n",
              "      <td>2.000000</td>\n",
              "      <td>0.000000</td>\n",
              "      <td>5.000000</td>\n",
              "      <td>4.00000</td>\n",
              "      <td>4.000000</td>\n",
              "      <td>2.000000</td>\n",
              "      <td>3.000000</td>\n",
              "      <td>5.000000</td>\n",
              "      <td>6.000000</td>\n",
              "      <td>13.000000</td>\n",
              "      <td>7.301587</td>\n",
              "    </tr>\n",
              "    <tr>\n",
              "      <th>max</th>\n",
              "      <td>22.000000</td>\n",
              "      <td>4.000000</td>\n",
              "      <td>4.000000</td>\n",
              "      <td>4.000000</td>\n",
              "      <td>4.000000</td>\n",
              "      <td>3.000000</td>\n",
              "      <td>5.000000</td>\n",
              "      <td>5.00000</td>\n",
              "      <td>5.000000</td>\n",
              "      <td>5.000000</td>\n",
              "      <td>5.000000</td>\n",
              "      <td>5.000000</td>\n",
              "      <td>32.000000</td>\n",
              "      <td>19.000000</td>\n",
              "      <td>10.000000</td>\n",
              "    </tr>\n",
              "  </tbody>\n",
              "</table>\n",
              "</div>\n",
              "    <div class=\"colab-df-buttons\">\n",
              "\n",
              "  <div class=\"colab-df-container\">\n",
              "    <button class=\"colab-df-convert\" onclick=\"convertToInteractive('df-d4fff231-74d8-4a15-b663-ebb23ae6531c')\"\n",
              "            title=\"Convert this dataframe to an interactive table.\"\n",
              "            style=\"display:none;\">\n",
              "\n",
              "  <svg xmlns=\"http://www.w3.org/2000/svg\" height=\"24px\" viewBox=\"0 -960 960 960\">\n",
              "    <path d=\"M120-120v-720h720v720H120Zm60-500h600v-160H180v160Zm220 220h160v-160H400v160Zm0 220h160v-160H400v160ZM180-400h160v-160H180v160Zm440 0h160v-160H620v160ZM180-180h160v-160H180v160Zm440 0h160v-160H620v160Z\"/>\n",
              "  </svg>\n",
              "    </button>\n",
              "\n",
              "  <style>\n",
              "    .colab-df-container {\n",
              "      display:flex;\n",
              "      gap: 12px;\n",
              "    }\n",
              "\n",
              "    .colab-df-convert {\n",
              "      background-color: #E8F0FE;\n",
              "      border: none;\n",
              "      border-radius: 50%;\n",
              "      cursor: pointer;\n",
              "      display: none;\n",
              "      fill: #1967D2;\n",
              "      height: 32px;\n",
              "      padding: 0 0 0 0;\n",
              "      width: 32px;\n",
              "    }\n",
              "\n",
              "    .colab-df-convert:hover {\n",
              "      background-color: #E2EBFA;\n",
              "      box-shadow: 0px 1px 2px rgba(60, 64, 67, 0.3), 0px 1px 3px 1px rgba(60, 64, 67, 0.15);\n",
              "      fill: #174EA6;\n",
              "    }\n",
              "\n",
              "    .colab-df-buttons div {\n",
              "      margin-bottom: 4px;\n",
              "    }\n",
              "\n",
              "    [theme=dark] .colab-df-convert {\n",
              "      background-color: #3B4455;\n",
              "      fill: #D2E3FC;\n",
              "    }\n",
              "\n",
              "    [theme=dark] .colab-df-convert:hover {\n",
              "      background-color: #434B5C;\n",
              "      box-shadow: 0px 1px 3px 1px rgba(0, 0, 0, 0.15);\n",
              "      filter: drop-shadow(0px 1px 2px rgba(0, 0, 0, 0.3));\n",
              "      fill: #FFFFFF;\n",
              "    }\n",
              "  </style>\n",
              "\n",
              "    <script>\n",
              "      const buttonEl =\n",
              "        document.querySelector('#df-d4fff231-74d8-4a15-b663-ebb23ae6531c button.colab-df-convert');\n",
              "      buttonEl.style.display =\n",
              "        google.colab.kernel.accessAllowed ? 'block' : 'none';\n",
              "\n",
              "      async function convertToInteractive(key) {\n",
              "        const element = document.querySelector('#df-d4fff231-74d8-4a15-b663-ebb23ae6531c');\n",
              "        const dataTable =\n",
              "          await google.colab.kernel.invokeFunction('convertToInteractive',\n",
              "                                                    [key], {});\n",
              "        if (!dataTable) return;\n",
              "\n",
              "        const docLinkHtml = 'Like what you see? Visit the ' +\n",
              "          '<a target=\"_blank\" href=https://colab.research.google.com/notebooks/data_table.ipynb>data table notebook</a>'\n",
              "          + ' to learn more about interactive tables.';\n",
              "        element.innerHTML = '';\n",
              "        dataTable['output_type'] = 'display_data';\n",
              "        await google.colab.output.renderOutput(dataTable, element);\n",
              "        const docLink = document.createElement('div');\n",
              "        docLink.innerHTML = docLinkHtml;\n",
              "        element.appendChild(docLink);\n",
              "      }\n",
              "    </script>\n",
              "  </div>\n",
              "\n",
              "\n",
              "<div id=\"df-73867385-e1a7-4d15-854b-af69a6d80c6f\">\n",
              "  <button class=\"colab-df-quickchart\" onclick=\"quickchart('df-73867385-e1a7-4d15-854b-af69a6d80c6f')\"\n",
              "            title=\"Suggest charts\"\n",
              "            style=\"display:none;\">\n",
              "\n",
              "<svg xmlns=\"http://www.w3.org/2000/svg\" height=\"24px\"viewBox=\"0 0 24 24\"\n",
              "     width=\"24px\">\n",
              "    <g>\n",
              "        <path d=\"M19 3H5c-1.1 0-2 .9-2 2v14c0 1.1.9 2 2 2h14c1.1 0 2-.9 2-2V5c0-1.1-.9-2-2-2zM9 17H7v-7h2v7zm4 0h-2V7h2v10zm4 0h-2v-4h2v4z\"/>\n",
              "    </g>\n",
              "</svg>\n",
              "  </button>\n",
              "\n",
              "<style>\n",
              "  .colab-df-quickchart {\n",
              "      --bg-color: #E8F0FE;\n",
              "      --fill-color: #1967D2;\n",
              "      --hover-bg-color: #E2EBFA;\n",
              "      --hover-fill-color: #174EA6;\n",
              "      --disabled-fill-color: #AAA;\n",
              "      --disabled-bg-color: #DDD;\n",
              "  }\n",
              "\n",
              "  [theme=dark] .colab-df-quickchart {\n",
              "      --bg-color: #3B4455;\n",
              "      --fill-color: #D2E3FC;\n",
              "      --hover-bg-color: #434B5C;\n",
              "      --hover-fill-color: #FFFFFF;\n",
              "      --disabled-bg-color: #3B4455;\n",
              "      --disabled-fill-color: #666;\n",
              "  }\n",
              "\n",
              "  .colab-df-quickchart {\n",
              "    background-color: var(--bg-color);\n",
              "    border: none;\n",
              "    border-radius: 50%;\n",
              "    cursor: pointer;\n",
              "    display: none;\n",
              "    fill: var(--fill-color);\n",
              "    height: 32px;\n",
              "    padding: 0;\n",
              "    width: 32px;\n",
              "  }\n",
              "\n",
              "  .colab-df-quickchart:hover {\n",
              "    background-color: var(--hover-bg-color);\n",
              "    box-shadow: 0 1px 2px rgba(60, 64, 67, 0.3), 0 1px 3px 1px rgba(60, 64, 67, 0.15);\n",
              "    fill: var(--button-hover-fill-color);\n",
              "  }\n",
              "\n",
              "  .colab-df-quickchart-complete:disabled,\n",
              "  .colab-df-quickchart-complete:disabled:hover {\n",
              "    background-color: var(--disabled-bg-color);\n",
              "    fill: var(--disabled-fill-color);\n",
              "    box-shadow: none;\n",
              "  }\n",
              "\n",
              "  .colab-df-spinner {\n",
              "    border: 2px solid var(--fill-color);\n",
              "    border-color: transparent;\n",
              "    border-bottom-color: var(--fill-color);\n",
              "    animation:\n",
              "      spin 1s steps(1) infinite;\n",
              "  }\n",
              "\n",
              "  @keyframes spin {\n",
              "    0% {\n",
              "      border-color: transparent;\n",
              "      border-bottom-color: var(--fill-color);\n",
              "      border-left-color: var(--fill-color);\n",
              "    }\n",
              "    20% {\n",
              "      border-color: transparent;\n",
              "      border-left-color: var(--fill-color);\n",
              "      border-top-color: var(--fill-color);\n",
              "    }\n",
              "    30% {\n",
              "      border-color: transparent;\n",
              "      border-left-color: var(--fill-color);\n",
              "      border-top-color: var(--fill-color);\n",
              "      border-right-color: var(--fill-color);\n",
              "    }\n",
              "    40% {\n",
              "      border-color: transparent;\n",
              "      border-right-color: var(--fill-color);\n",
              "      border-top-color: var(--fill-color);\n",
              "    }\n",
              "    60% {\n",
              "      border-color: transparent;\n",
              "      border-right-color: var(--fill-color);\n",
              "    }\n",
              "    80% {\n",
              "      border-color: transparent;\n",
              "      border-right-color: var(--fill-color);\n",
              "      border-bottom-color: var(--fill-color);\n",
              "    }\n",
              "    90% {\n",
              "      border-color: transparent;\n",
              "      border-bottom-color: var(--fill-color);\n",
              "    }\n",
              "  }\n",
              "</style>\n",
              "\n",
              "  <script>\n",
              "    async function quickchart(key) {\n",
              "      const quickchartButtonEl =\n",
              "        document.querySelector('#' + key + ' button');\n",
              "      quickchartButtonEl.disabled = true;  // To prevent multiple clicks.\n",
              "      quickchartButtonEl.classList.add('colab-df-spinner');\n",
              "      try {\n",
              "        const charts = await google.colab.kernel.invokeFunction(\n",
              "            'suggestCharts', [key], {});\n",
              "      } catch (error) {\n",
              "        console.error('Error during call to suggestCharts:', error);\n",
              "      }\n",
              "      quickchartButtonEl.classList.remove('colab-df-spinner');\n",
              "      quickchartButtonEl.classList.add('colab-df-quickchart-complete');\n",
              "    }\n",
              "    (() => {\n",
              "      let quickchartButtonEl =\n",
              "        document.querySelector('#df-73867385-e1a7-4d15-854b-af69a6d80c6f button');\n",
              "      quickchartButtonEl.style.display =\n",
              "        google.colab.kernel.accessAllowed ? 'block' : 'none';\n",
              "    })();\n",
              "  </script>\n",
              "</div>\n",
              "\n",
              "    </div>\n",
              "  </div>\n"
            ],
            "application/vnd.google.colaboratory.intrinsic+json": {
              "type": "dataframe",
              "summary": "{\n  \"name\": \"data\",\n  \"rows\": 8,\n  \"fields\": [\n    {\n      \"column\": \"age\",\n      \"properties\": {\n        \"dtype\": \"number\",\n        \"std\": 224.8926180296469,\n        \"min\": 1.2176088009901258,\n        \"max\": 651.0,\n        \"num_unique_values\": 8,\n        \"samples\": [\n          16.74500768049155,\n          17.0,\n          651.0\n        ],\n        \"semantic_type\": \"\",\n        \"description\": \"\"\n      }\n    },\n    {\n      \"column\": \"Medu\",\n      \"properties\": {\n        \"dtype\": \"number\",\n        \"std\": 229.37671399745395,\n        \"min\": 0.0,\n        \"max\": 651.0,\n        \"num_unique_values\": 6,\n        \"samples\": [\n          651.0,\n          2.5161290322580645,\n          4.0\n        ],\n        \"semantic_type\": \"\",\n        \"description\": \"\"\n      }\n    },\n    {\n      \"column\": \"Fedu\",\n      \"properties\": {\n        \"dtype\": \"number\",\n        \"std\": 229.48937590625957,\n        \"min\": 0.0,\n        \"max\": 651.0,\n        \"num_unique_values\": 8,\n        \"samples\": [\n          2.3087557603686637,\n          2.0,\n          651.0\n        ],\n        \"semantic_type\": \"\",\n        \"description\": \"\"\n      }\n    },\n    {\n      \"column\": \"traveltime\",\n      \"properties\": {\n        \"dtype\": \"number\",\n        \"std\": 229.5940263054784,\n        \"min\": 0.7478892271670248,\n        \"max\": 651.0,\n        \"num_unique_values\": 6,\n        \"samples\": [\n          651.0,\n          1.5698924731182795,\n          4.0\n        ],\n        \"semantic_type\": \"\",\n        \"description\": \"\"\n      }\n    },\n    {\n      \"column\": \"studytime\",\n      \"properties\": {\n        \"dtype\": \"number\",\n        \"std\": 229.52105213291418,\n        \"min\": 0.8282413257774748,\n        \"max\": 651.0,\n        \"num_unique_values\": 6,\n        \"samples\": [\n          651.0,\n          1.9308755760368663,\n          4.0\n        ],\n        \"semantic_type\": \"\",\n        \"description\": \"\"\n      }\n    },\n    {\n      \"column\": \"failures\",\n      \"properties\": {\n        \"dtype\": \"number\",\n        \"std\": 229.97291325681533,\n        \"min\": 0.0,\n        \"max\": 651.0,\n        \"num_unique_values\": 5,\n        \"samples\": [\n          0.22119815668202766,\n          3.0,\n          0.5924492389002792\n        ],\n        \"semantic_type\": \"\",\n        \"description\": \"\"\n      }\n    },\n    {\n      \"column\": \"famrel\",\n      \"properties\": {\n        \"dtype\": \"number\",\n        \"std\": 228.96244865528533,\n        \"min\": 0.9542531521252701,\n        \"max\": 651.0,\n        \"num_unique_values\": 6,\n        \"samples\": [\n          651.0,\n          3.9308755760368665,\n          5.0\n        ],\n        \"semantic_type\": \"\",\n        \"description\": \"\"\n      }\n    },\n    {\n      \"column\": \"freetime\",\n      \"properties\": {\n        \"dtype\": \"number\",\n        \"std\": 229.14539959364697,\n        \"min\": 1.0,\n        \"max\": 651.0,\n        \"num_unique_values\": 7,\n        \"samples\": [\n          651.0,\n          3.1812596006144394,\n          4.0\n        ],\n        \"semantic_type\": \"\",\n        \"description\": \"\"\n      }\n    },\n    {\n      \"column\": \"goout\",\n      \"properties\": {\n        \"dtype\": \"number\",\n        \"std\": 229.18936345400272,\n        \"min\": 1.0,\n        \"max\": 651.0,\n        \"num_unique_values\": 8,\n        \"samples\": [\n          3.187403993855607,\n          3.0,\n          651.0\n        ],\n        \"semantic_type\": \"\",\n        \"description\": \"\"\n      }\n    },\n    {\n      \"column\": \"Dalc\",\n      \"properties\": {\n        \"dtype\": \"number\",\n        \"std\": 229.5397821686739,\n        \"min\": 0.9238295013986597,\n        \"max\": 651.0,\n        \"num_unique_values\": 6,\n        \"samples\": [\n          651.0,\n          1.5007680491551458,\n          5.0\n        ],\n        \"semantic_type\": \"\",\n        \"description\": \"\"\n      }\n    },\n    {\n      \"column\": \"Walc\",\n      \"properties\": {\n        \"dtype\": \"number\",\n        \"std\": 229.3811268856217,\n        \"min\": 1.0,\n        \"max\": 651.0,\n        \"num_unique_values\": 7,\n        \"samples\": [\n          651.0,\n          2.2764976958525347,\n          3.0\n        ],\n        \"semantic_type\": \"\",\n        \"description\": \"\"\n      }\n    },\n    {\n      \"column\": \"health\",\n      \"properties\": {\n        \"dtype\": \"number\",\n        \"std\": 229.05811669458484,\n        \"min\": 1.0,\n        \"max\": 651.0,\n        \"num_unique_values\": 7,\n        \"samples\": [\n          651.0,\n          3.5376344086021505,\n          4.0\n        ],\n        \"semantic_type\": \"\",\n        \"description\": \"\"\n      }\n    },\n    {\n      \"column\": \"absences\",\n      \"properties\": {\n        \"dtype\": \"number\",\n        \"std\": 227.96428049619692,\n        \"min\": 0.0,\n        \"max\": 651.0,\n        \"num_unique_values\": 7,\n        \"samples\": [\n          651.0,\n          3.654377880184332,\n          6.0\n        ],\n        \"semantic_type\": \"\",\n        \"description\": \"\"\n      }\n    },\n    {\n      \"column\": \"C1\",\n      \"properties\": {\n        \"dtype\": \"number\",\n        \"std\": 226.8479939899867,\n        \"min\": 0.0,\n        \"max\": 651.0,\n        \"num_unique_values\": 8,\n        \"samples\": [\n          11.382488479262673,\n          11.0,\n          651.0\n        ],\n        \"semantic_type\": \"\",\n        \"description\": \"\"\n      }\n    },\n    {\n      \"column\": \"CGPA\",\n      \"properties\": {\n        \"dtype\": \"number\",\n        \"std\": 228.31890494687272,\n        \"min\": 0.2116402116402116,\n        \"max\": 651.0,\n        \"num_unique_values\": 8,\n        \"samples\": [\n          6.253464348702443,\n          6.243386243386243,\n          651.0\n        ],\n        \"semantic_type\": \"\",\n        \"description\": \"\"\n      }\n    }\n  ]\n}"
            }
          },
          "metadata": {},
          "execution_count": 78
        }
      ]
    },
    {
      "cell_type": "code",
      "source": [
        "x = data.corr()\n",
        "#GETTING THE CORRELATION OF DIFFERENT COLUMNS WITH EACH OTHER USING THE FUNCTION .CORR()"
      ],
      "metadata": {
        "colab": {
          "base_uri": "https://localhost:8080/"
        },
        "id": "HUxcsB6asxDY",
        "outputId": "700f71f0-0f6e-43c4-fce5-ccc9edbe483a"
      },
      "execution_count": null,
      "outputs": [
        {
          "output_type": "stream",
          "name": "stderr",
          "text": [
            "<ipython-input-79-e2a8c936c012>:1: FutureWarning: The default value of numeric_only in DataFrame.corr is deprecated. In a future version, it will default to False. Select only valid columns or specify the value of numeric_only to silence this warning.\n",
            "  x = data.corr()\n"
          ]
        }
      ]
    },
    {
      "cell_type": "code",
      "source": [
        "print(x[ 'CGPA' ].dtype)"
      ],
      "metadata": {
        "colab": {
          "base_uri": "https://localhost:8080/"
        },
        "id": "HOJLlrAts0Mv",
        "outputId": "c7cbba04-88f7-4a23-82c5-bcb1c56a0188"
      },
      "execution_count": null,
      "outputs": [
        {
          "output_type": "stream",
          "name": "stdout",
          "text": [
            "float64\n"
          ]
        }
      ]
    },
    {
      "cell_type": "code",
      "source": [
        "x[ 'CGPA' ].sort_values(ascending=False)"
      ],
      "metadata": {
        "colab": {
          "base_uri": "https://localhost:8080/"
        },
        "id": "U10EMmZQs2Fb",
        "outputId": "b63f156c-0fee-4a6f-83d9-ed01e96caf01"
      },
      "execution_count": null,
      "outputs": [
        {
          "output_type": "execute_result",
          "data": {
            "text/plain": [
              "CGPA          1.000000\n",
              "C1            0.854654\n",
              "studytime     0.254811\n",
              "Medu          0.247344\n",
              "Fedu          0.215887\n",
              "famrel        0.065742\n",
              "goout        -0.087950\n",
              "health       -0.094526\n",
              "absences     -0.101401\n",
              "age          -0.115634\n",
              "freetime     -0.120842\n",
              "traveltime   -0.135116\n",
              "Walc         -0.176038\n",
              "Dalc         -0.205957\n",
              "failures     -0.399241\n",
              "Name: CGPA, dtype: float64"
            ]
          },
          "metadata": {},
          "execution_count": 81
        }
      ]
    },
    {
      "cell_type": "code",
      "source": [
        "import seaborn as sns\n",
        "sns.heatmap(x , annot=True , cmap='viridis')\n",
        "plt.title( \"Correlation Heatmap\" )\n",
        "plt.show()\n",
        "\n",
        "#correlation matrix is a table that displays the correlation coefficients between multiple variables in a dataset\n",
        "#correlation graph is plotted using seaborn and we looked for relation of cgpa with other columns\n",
        "#-1 or negative inversely prop\n",
        "#1 or positive directly prop"
      ],
      "metadata": {
        "colab": {
          "base_uri": "https://localhost:8080/",
          "height": 510
        },
        "id": "pG9Ug_7ys4JV",
        "outputId": "40dc6e43-b981-4bbc-8bf2-24c0abb6b9b3"
      },
      "execution_count": null,
      "outputs": [
        {
          "output_type": "display_data",
          "data": {
            "text/plain": [
              "<Figure size 640x480 with 2 Axes>"
            ],
            "image/png": "[encoded data removed]"
          },
          "metadata": {}
        }
      ]
    },
    {
      "cell_type": "code",
      "source": [
        "plt.scatter( data['C1'] , data['CGPA'] )\n",
        "plt.title( 'Scatter plot between C1 and CGPA')\n",
        "plt.xlabel('C1')\n",
        "plt.ylabel('CGPA')\n",
        "plt.show()"
      ],
      "metadata": {
        "colab": {
          "base_uri": "https://localhost:8080/",
          "height": 472
        },
        "id": "8SE_GiVzs4_j",
        "outputId": "89d447fa-f032-4246-b3fc-dc6a3dc92ad6"
      },
      "execution_count": null,
      "outputs": [
        {
          "output_type": "display_data",
          "data": {
            "text/plain": [
              "<Figure size 640x480 with 1 Axes>"
            ],
            "image/png": "[encoded data removed]"
          },
          "metadata": {}
        }
      ]
    },
    {
      "cell_type": "code",
      "source": [
        "sns.lineplot(x=data['age'],y=data['CGPA'])\n",
        "\n",
        "#Almost every age has the same avg. No significe of age on cgpa. Drop age"
      ],
      "metadata": {
        "colab": {
          "base_uri": "https://localhost:8080/",
          "height": 466
        },
        "id": "HtvUoWkP6t63",
        "outputId": "bae8698c-3921-4eac-dac7-c00883d43454"
      },
      "execution_count": null,
      "outputs": [
        {
          "output_type": "execute_result",
          "data": {
            "text/plain": [
              "<Axes: xlabel='age', ylabel='CGPA'>"
            ]
          },
          "metadata": {},
          "execution_count": 84
        },
        {
          "output_type": "display_data",
          "data": {
            "text/plain": [
              "<Figure size 640x480 with 1 Axes>"
            ],
            "image/png": "[encoded data removed]"
          },
          "metadata": {}
        }
      ]
    },
    {
      "cell_type": "code",
      "source": [
        "sns.barplot(x=data['address'],y=data['CGPA'])\n",
        "\n",
        "#R and U have different avg CG. Can apply ohe"
      ],
      "metadata": {
        "colab": {
          "base_uri": "https://localhost:8080/",
          "height": 466
        },
        "id": "9gLGerip6uHt",
        "outputId": "961f7db5-5e80-4a50-8ff5-a40b06c3ecab"
      },
      "execution_count": null,
      "outputs": [
        {
          "output_type": "execute_result",
          "data": {
            "text/plain": [
              "<Axes: xlabel='address', ylabel='CGPA'>"
            ]
          },
          "metadata": {},
          "execution_count": 85
        },
        {
          "output_type": "display_data",
          "data": {
            "text/plain": [
              "<Figure size 640x480 with 1 Axes>"
            ],
            "image/png": "[encoded data removed]"
          },
          "metadata": {}
        }
      ]
    },
    {
      "cell_type": "code",
      "source": [
        "sns.barplot(x=data['Pstatus'],y=data['CGPA'])\n",
        "\n",
        "#No significance on CG. Drop Pststus"
      ],
      "metadata": {
        "colab": {
          "base_uri": "https://localhost:8080/"
        },
        "id": "YxMBApzf6uKO",
        "outputId": "fd32b192-9a5b-442c-b0ee-fad281e71450"
      },
      "execution_count": null,
      "outputs": [
        {
          "output_type": "execute_result",
          "data": {
            "text/plain": [
              "<Axes: xlabel='Pstatus', ylabel='CGPA'>"
            ]
          },
          "metadata": {},
          "execution_count": 86
        },
        {
          "output_type": "display_data",
          "data": {
            "text/plain": [
              "<Figure size 640x480 with 1 Axes>"
            ],
            "image/png": "[encoded data removed]"
          },
          "metadata": {}
        }
      ]
    },
    {
      "cell_type": "code",
      "source": [
        "sns.barplot(x=data['Mjob'],y=data['CGPA'])\n",
        "\n",
        "#Avg of teacher and health is slightly higher but with the rest of jobs, the min and max values overlap.Drop Mjob"
      ],
      "metadata": {
        "colab": {
          "base_uri": "https://localhost:8080/"
        },
        "id": "H65pgMnz6uMl",
        "outputId": "84594b6e-f59c-4de5-b518-305b589b21db"
      },
      "execution_count": null,
      "outputs": [
        {
          "output_type": "execute_result",
          "data": {
            "text/plain": [
              "<Axes: xlabel='Mjob', ylabel='CGPA'>"
            ]
          },
          "metadata": {},
          "execution_count": 87
        },
        {
          "output_type": "display_data",
          "data": {
            "text/plain": [
              "<Figure size 640x480 with 1 Axes>"
            ],
            "image/png": "[encoded data removed]"
          },
          "metadata": {}
        }
      ]
    },
    {
      "cell_type": "code",
      "source": [
        "sns.barplot(x=data['Fjob'],y=data['CGPA'])\n",
        "\n",
        "#Avg of teacher is slightly higher but with the rest of jobs, the min and max values overlap.\n",
        "#Other and Servies make 83% of data, uneven distribution .Drop Fjob"
      ],
      "metadata": {
        "colab": {
          "base_uri": "https://localhost:8080/"
        },
        "id": "je7a5lbj6uO9",
        "outputId": "4c01a6cd-bb17-4aa8-f541-73389d575e56"
      },
      "execution_count": null,
      "outputs": [
        {
          "output_type": "execute_result",
          "data": {
            "text/plain": [
              "<Axes: xlabel='Fjob', ylabel='CGPA'>"
            ]
          },
          "metadata": {},
          "execution_count": 88
        },
        {
          "output_type": "display_data",
          "data": {
            "text/plain": [
              "<Figure size 640x480 with 1 Axes>"
            ],
            "image/png": "[encoded data removed]"
          },
          "metadata": {}
        }
      ]
    },
    {
      "cell_type": "code",
      "source": [
        "sns.barplot(x=data['reason'],y=data['CGPA'])\n",
        "\n",
        "#Every reason has a different avg and range. Apply ohe"
      ],
      "metadata": {
        "colab": {
          "base_uri": "https://localhost:8080/"
        },
        "id": "nNZzCHlh-E37",
        "outputId": "346eeff0-f23e-48b0-ee62-4b51aad96bbb"
      },
      "execution_count": null,
      "outputs": [
        {
          "output_type": "execute_result",
          "data": {
            "text/plain": [
              "<Axes: xlabel='reason', ylabel='CGPA'>"
            ]
          },
          "metadata": {},
          "execution_count": 89
        },
        {
          "output_type": "display_data",
          "data": {
            "text/plain": [
              "<Figure size 640x480 with 1 Axes>"
            ],
            "image/png": "[encoded data removed]"
          },
          "metadata": {}
        }
      ]
    },
    {
      "cell_type": "code",
      "source": [
        "sns.barplot(x=data['guardian'],y=data['CGPA'])\n",
        "#Mother and father have same results. Converge them into a class called parents and apply ohe"
      ],
      "metadata": {
        "colab": {
          "base_uri": "https://localhost:8080/"
        },
        "id": "QhwzvVp4-E7J",
        "outputId": "893c20f8-91d1-45ce-fc9a-fe02db278ee5"
      },
      "execution_count": null,
      "outputs": [
        {
          "output_type": "execute_result",
          "data": {
            "text/plain": [
              "<Axes: xlabel='guardian', ylabel='CGPA'>"
            ]
          },
          "metadata": {},
          "execution_count": 90
        },
        {
          "output_type": "display_data",
          "data": {
            "text/plain": [
              "<Figure size 640x480 with 1 Axes>"
            ],
            "image/png": "[encoded data removed]"
          },
          "metadata": {}
        }
      ]
    },
    {
      "cell_type": "code",
      "source": [
        "sns.barplot(x=data['famsize'],y=data['CGPA'])# No significant difference. Drop famsize"
      ],
      "metadata": {
        "colab": {
          "base_uri": "https://localhost:8080/"
        },
        "id": "BRMygDJ8-E-g",
        "outputId": "5f95a5a5-b7f3-4f95-80cd-6ff4ddc713c4"
      },
      "execution_count": null,
      "outputs": [
        {
          "output_type": "execute_result",
          "data": {
            "text/plain": [
              "<Axes: xlabel='famsize', ylabel='CGPA'>"
            ]
          },
          "metadata": {},
          "execution_count": 91
        }
      ]
    },
    {
      "cell_type": "code",
      "source": [
        "sns.barplot(x=data['Pstatus'],y=data['CGPA'])#No difference observed in the graph. Drop Pstatus"
      ],
      "metadata": {
        "id": "zAi3Q2xUAJQM"
      },
      "execution_count": null,
      "outputs": []
    },
    {
      "cell_type": "code",
      "source": [
        "sns.barplot(x=data['schoolsup'],y=data['CGPA'])#No significant(very slight) change in the avg CG. drop schoolsup"
      ],
      "metadata": {
        "id": "e2aVqq12BA3A"
      },
      "execution_count": null,
      "outputs": []
    },
    {
      "cell_type": "code",
      "source": [
        "sns.barplot(x=data['famsup'],y=data['CGPA'])#No change in avg CG. Drop"
      ],
      "metadata": {
        "id": "Wvi7-HLpBijt"
      },
      "execution_count": null,
      "outputs": []
    },
    {
      "cell_type": "code",
      "source": [
        "sns.barplot(x=data['paid'],y=data['CGPA'])\n",
        "#Range of Yes is very high, and the range of no is almost within yes. Not reliable.Drop"
      ],
      "metadata": {
        "id": "edM2wwJnBin_"
      },
      "execution_count": null,
      "outputs": []
    },
    {
      "cell_type": "code",
      "source": [
        "sns.barplot(x=data['activities'],y=data['CGPA'])# No change. Drop"
      ],
      "metadata": {
        "id": "IOMS3G7yBirk"
      },
      "execution_count": null,
      "outputs": []
    },
    {
      "cell_type": "code",
      "source": [
        "sns.barplot(x=data['nursery'],y=data['CGPA'])#No change observed. Drop"
      ],
      "metadata": {
        "id": "ZlspAVY16uRI"
      },
      "execution_count": null,
      "outputs": []
    },
    {
      "cell_type": "code",
      "source": [
        "sns.barplot(x=data['higher'],y=data['CGPA'])#Clear trend observed. Apply ohe"
      ],
      "metadata": {
        "id": "2MJezmtmFhtI"
      },
      "execution_count": null,
      "outputs": []
    },
    {
      "cell_type": "code",
      "source": [
        "sns.barplot(x=data['romantic'],y=data['CGPA'])#No significant change. drop"
      ],
      "metadata": {
        "id": "Bf9hL0zKFh3z"
      },
      "execution_count": null,
      "outputs": []
    },
    {
      "cell_type": "code",
      "source": [
        "sns.barplot(x=data['famrel'],y=data['CGPA'])#Avg is different but values overlap. Drop"
      ],
      "metadata": {
        "id": "C6OpOZfOFh55"
      },
      "execution_count": null,
      "outputs": []
    },
    {
      "cell_type": "code",
      "source": [
        "sns.barplot(x=data['Dalc'],y=data['CGPA'])#Values overlapping. Drop"
      ],
      "metadata": {
        "id": "R29dXhUhFh9Q"
      },
      "execution_count": null,
      "outputs": []
    },
    {
      "cell_type": "code",
      "source": [
        "sns.barplot(x=data['Walc'],y=data['CGPA'])#1 and 2 have almost the same avg. The rest are overlapping. Drop"
      ],
      "metadata": {
        "id": "j1E6Zj3KF4Ob"
      },
      "execution_count": null,
      "outputs": []
    },
    {
      "cell_type": "code",
      "source": [
        "sns.barplot(x=data['absences'],y=data['CGPA'])#There is no significance of absence in cg. Drop"
      ],
      "metadata": {
        "id": "D9msTgXDF4RE"
      },
      "execution_count": null,
      "outputs": []
    },
    {
      "cell_type": "code",
      "source": [
        "data.drop(columns=['age','Mjob','Pstatus','famsize','Fjob','absences','Walc','paid','Dalc','romantic','nursery','activities','schoolsup','famsup','famrel'], inplace=True)\n",
        "datas.drop(columns=['age','Mjob','Pstatus','famsize','Fjob','absences','Walc','paid','Dalc','romantic','nursery','activities','schoolsup','famsup','famrel'], inplace=True)\n",
        "#Dropping the columns in both train and test"
      ],
      "metadata": {
        "id": "wxdYQdZFF4TV"
      },
      "execution_count": null,
      "outputs": []
    },
    {
      "cell_type": "code",
      "source": [
        "data.replace(to_replace=['mother','father'], value= 'parent', inplace=True)\n",
        "datas.replace(to_replace=['mother','father'], value= 'parent', inplace=True)\n",
        "#Changing the guardian column"
      ],
      "metadata": {
        "id": "JFw1z7-rF4V8"
      },
      "execution_count": null,
      "outputs": []
    },
    {
      "cell_type": "code",
      "source": [
        "y=data.iloc[:, -1]"
      ],
      "metadata": {
        "id": "-mwlEJLEtFdh"
      },
      "execution_count": null,
      "outputs": []
    },
    {
      "cell_type": "code",
      "source": [
        "X = data.iloc[:, :-1]"
      ],
      "metadata": {
        "id": "nQVCblCgtNEj"
      },
      "execution_count": null,
      "outputs": []
    },
    {
      "cell_type": "code",
      "source": [
        "# import pandas as pd\n",
        "# X=pd.Dataframe(X)\n",
        "# print(X)"
      ],
      "metadata": {
        "id": "OrN9HK2ttVcc"
      },
      "execution_count": null,
      "outputs": []
    },
    {
      "cell_type": "markdown",
      "source": [
        "###Encoding categorical data"
      ],
      "metadata": {
        "id": "iFyovTOWz41R"
      }
    },
    {
      "cell_type": "code",
      "source": [
        "from sklearn.compose import ColumnTransformer\n",
        "from sklearn.preprocessing import OneHotEncoder\n",
        "transformer = ColumnTransformer(transformers=[\n",
        "    ('tnf1',OneHotEncoder(sparse=False,drop='first'),['sex','address','reason','guardian','higher','internet']),\n",
        "],remainder='passthrough')\n",
        "\n",
        "X=np.array(transformer.fit_transform(X))\n",
        "datas=np.array(transformer.fit_transform(datas))\n",
        "#Applying ONeHotEncoding"
      ],
      "metadata": {
        "id": "8Ve8sIPUtPmY"
      },
      "execution_count": null,
      "outputs": []
    },
    {
      "cell_type": "code",
      "source": [
        "\n",
        "X = pd.DataFrame(X)\n",
        "X.info()"
      ],
      "metadata": {
        "id": "tlZ9tI8YtwVQ"
      },
      "execution_count": null,
      "outputs": []
    },
    {
      "cell_type": "markdown",
      "source": [
        "#REGRESSION MODEL ON THE DATASET"
      ],
      "metadata": {
        "id": "NErujuIB0RYl"
      }
    },
    {
      "cell_type": "markdown",
      "source": [
        "###GRADIENT BOOST REGRESSION (BEST RESULTS)"
      ],
      "metadata": {
        "id": "6rXznQhQ0Wo4"
      }
    },
    {
      "cell_type": "code",
      "source": [
        "import pandas as pd\n",
        "from sklearn.model_selection import train_test_split\n",
        "from sklearn.ensemble import GradientBoostingRegressor\n",
        "from sklearn.metrics import mean_squared_error\n",
        "\n",
        "# Split the data into training and testing sets\n",
        "\n",
        "X_train, X_test, y_train, y_test = train_test_split(X, y, test_size=0.2, random_state=42)\n",
        "\n",
        "# Instantiate the Gradient Boosting Regressor\n",
        "\n",
        "gb_regressor = GradientBoostingRegressor()\n",
        "\n",
        "# Fit the model to the training data\n",
        "\n",
        "gb_regressor.fit(X,y)\n",
        "\n",
        "# Make predictions on the testing data\n",
        "\n",
        "predictions=gb_regressor.predict(X_test)\n",
        "\n",
        "# Evaluate the model\n",
        "\n",
        "mse = mean_squared_error(y_test, predictions)\n",
        "print(\"Mean Squared Error:\", mse)"
      ],
      "metadata": {
        "id": "KiRnHjhkuos5"
      },
      "execution_count": null,
      "outputs": []
    },
    {
      "cell_type": "markdown",
      "source": [
        "###APPLICATION OF POLYNOMIAL REGRESSION ON THE DATASET(GAVE ACCURACY OF 0.75 ON TRAINING DATASET)"
      ],
      "metadata": {
        "id": "204oNDJD0fRW"
      }
    },
    {
      "cell_type": "code",
      "source": [
        "import pandas as pd\n",
        "import numpy as np\n",
        "from sklearn.model_selection import train_test_split\n",
        "from sklearn.preprocessing import PolynomialFeatures\n",
        "from sklearn.linear_model import LinearRegression\n",
        "from sklearn.metrics import r2_score\n",
        "# Split the data into train and test sets\n",
        "X_train, X_test, y_train, y_test = train_test_split(X, y, test_size=0.2, random_state=42)\n",
        "\n",
        "degree = 1  # Degree of polynomial features\n",
        "poly_features = PolynomialFeatures(degree=degree)\n",
        "\n",
        "# Transforming features to polynomial features\n",
        "X_train_poly = poly_features.fit_transform(X_train)\n",
        "X_test_poly = poly_features.transform(X_test)\n",
        "\n",
        "# Fit polynomial regression model\n",
        "model = LinearRegression()\n",
        "model.fit(X_train_poly, y_train)\n",
        "\n",
        "# Predict on test set\n",
        "y_pred = model.predict(X_test_poly)\n",
        "\n",
        "# Calculate R-squared score\n",
        "r2 = r2_score(y_test, y_pred)\n",
        "print(\"R-squared Score:\", r2)\n",
        "print(\"Shape of X_test_poly:\", X_test_poly.shape)\n"
      ],
      "metadata": {
        "id": "2ksMqq-KvIfR"
      },
      "execution_count": null,
      "outputs": []
    },
    {
      "cell_type": "markdown",
      "source": [
        "###TRIED XGBOOST REGRESSION ALSO"
      ],
      "metadata": {
        "id": "ChWPgiiL07sG"
      }
    },
    {
      "cell_type": "code",
      "source": [
        "# import pandas as pd\n",
        "# from sklearn.model_selection import train_test_split\n",
        "# from xgboost import XGBRegressor\n",
        "# from sklearn.metrics import r2_score\n",
        "# X_train, X_test, y_train, y_test = train_test_split(X, y, test_size=0.2, random_state=42)\n",
        "# type(X_train)\n",
        "# X_train.dtypes\n",
        "# # type(y_train)\n",
        "# # y_train.dtypes"
      ],
      "metadata": {
        "id": "hdxw7_SOusZM"
      },
      "execution_count": null,
      "outputs": []
    },
    {
      "cell_type": "code",
      "source": [
        "# xgb_regressor = XGBRegressor()\n",
        "\n",
        "# # Step 5: Fit the model to the training data\n",
        "# xgb_regressor.fit(X_train, y_train)\n",
        "\n",
        "# # Step 6: Make predictions on the testing data\n",
        "# predictions = xgb_regressor.predict(X_test)\n",
        "# r2 = r2_score(y_test, predictions)\n",
        "# print(\"R-squared Score:\", r2)\n",
        "# # Step 7: Evaluate the model\n",
        "# mse = mean_squared_error(y_test, predictions)\n",
        "# print(\"Mean Squared Error:\", mse)"
      ],
      "metadata": {
        "id": "fX5IKg37vSAn"
      },
      "execution_count": null,
      "outputs": []
    },
    {
      "cell_type": "markdown",
      "source": [
        "###LINEAR REGRESSION APPLICATION ON THE DATASET"
      ],
      "metadata": {
        "id": "VGI3uXrP1CCO"
      }
    },
    {
      "cell_type": "code",
      "source": [
        "#  import pandas as pd\n",
        "# import numpy as np\n",
        "# from sklearn.model_selection import train_test_split\n",
        "# from sklearn.preprocessing import PolynomialFeatures\n",
        "# from sklearn.linear_model import LinearRegression\n",
        "# from sklearn.metrics import mean_squared_error\n",
        "# # Split the data into training and testing sets\n",
        "# X_train, X_test, y_train, y_test = train_test_split(X, y, test_size=0.2, random_state=42)\n",
        "# type(X_train)\n",
        "# X_train.dtypes\n",
        "# # # Create a linear regression model\n",
        "# # model = LinearRegression()\n",
        "# # # Fit the model to the training data\n",
        "# # model.fit(X_train, y_train)\n",
        "# # # Make predictions on the testing data\n",
        "# # predictions = model.predict(X_test)\n",
        "# # # Calculate R-squared score\n",
        "# # r2 = r2_score(y_test, y_pred)\n",
        "# print(\"R-squared Score:\", r2)"
      ],
      "metadata": {
        "id": "WP-7nlORvUuP"
      },
      "execution_count": null,
      "outputs": []
    },
    {
      "cell_type": "code",
      "source": [
        "\n",
        "X_te= poly_features.transform(datas)"
      ],
      "metadata": {
        "id": "-B1wNjHAvWn1"
      },
      "execution_count": null,
      "outputs": []
    },
    {
      "cell_type": "markdown",
      "source": [
        "###FINAL PREDICTIONS USING GRADIENT BOOST REGRESSION"
      ],
      "metadata": {
        "id": "jwkv7irD1KAX"
      }
    },
    {
      "cell_type": "code",
      "source": [
        "gb_regressor.predict(datas)"
      ],
      "metadata": {
        "id": "EGGiTGZmvazA"
      },
      "execution_count": null,
      "outputs": []
    },
    {
      "cell_type": "markdown",
      "source": [
        "###FINAL PREDICTIONS USING POLYNOMIAL REGRESSION"
      ],
      "metadata": {
        "id": "yk82C26m1UpM"
      }
    },
    {
      "cell_type": "code",
      "source": [
        "model.predict(X_te)"
      ],
      "metadata": {
        "id": "VdCuSLCgvdf5"
      },
      "execution_count": null,
      "outputs": []
    },
    {
      "cell_type": "markdown",
      "source": [
        "###DECISION TREE REGRESSION (Max_Score =0.71)###\n",
        "\n",
        "\n",
        "\n"
      ],
      "metadata": {
        "id": "jaICacBoSGt2"
      }
    },
    {
      "cell_type": "code",
      "source": [
        "from sklearn.tree import DecisionTreeRegressor\n",
        "from sklearn.model_selection import train_test_split\n",
        "from sklearn import metrics\n",
        "from sklearn.metrics import r2_score\n",
        "from sklearn.model_selection import GridSearchCV\n",
        "from sklearn.tree import DecisionTreeClassifier\n",
        "from sklearn.metrics import accuracy_score,confusion_matrix,classification_report\n",
        "from sklearn.metrics import mean_squared_error"
      ],
      "metadata": {
        "id": "-G0D7SIkSOTu"
      },
      "execution_count": null,
      "outputs": []
    },
    {
      "cell_type": "code",
      "source": [
        "X_train_dt, X_test_dt, y_train_dt, y_test_dt = train_test_split(X, y, test_size=0.2,random_state=42)\n",
        "#Doing train test split on train dataset to find the best hyperparameters"
      ],
      "metadata": {
        "id": "IiT7NkhsU0zA"
      },
      "execution_count": null,
      "outputs": []
    },
    {
      "cell_type": "code",
      "source": [
        "param_grid = {\n",
        "    'max_depth':[2,3,4,6,8,10,15,20,25,30,35,40,None],\n",
        "    'criterion':['absolute_error','squared_error'],\n",
        "    'max_features':[0,0.1,0.15,0.2,0.25,0.35,0.4,0.5,0.6,0.65,0.75,0.8,0.9,1.0],\n",
        "    'min_samples_split':[0.1,0.2,0.25,0.35,0.4,0.5,0.6,0.75,0.8,0.9,1.0]\n",
        "\n",
        "}\n",
        "#Making a parmeter grid for gridsearch"
      ],
      "metadata": {
        "id": "s59fnp1OU0-_"
      },
      "execution_count": null,
      "outputs": []
    },
    {
      "cell_type": "code",
      "source": [
        "reg = GridSearchCV(DecisionTreeRegressor(),param_grid=param_grid)"
      ],
      "metadata": {
        "id": "XaQbkcv8V7NM"
      },
      "execution_count": null,
      "outputs": []
    },
    {
      "cell_type": "code",
      "source": [
        "reg.fit(X_train_dt,y_train_dt)"
      ],
      "metadata": {
        "colab": {
          "base_uri": "https://localhost:8080/",
          "height": 553
        },
        "id": "VnHvy2yxWCze",
        "outputId": "e5c404f2-686f-4479-a41a-483de6302f44"
      },
      "execution_count": null,
      "outputs": [
        {
          "output_type": "stream",
          "name": "stderr",
          "text": [
            "/usr/local/lib/python3.10/dist-packages/sklearn/model_selection/_validation.py:378: FitFailedWarning: \n",
            "1430 fits failed out of a total of 20020.\n",
            "The score on these train-test partitions for these parameters will be set to nan.\n",
            "If these failures are not expected, you can try to debug them by setting error_score='raise'.\n",
            "\n",
            "Below are more details about the failures:\n",
            "--------------------------------------------------------------------------------\n",
            "1430 fits failed with the following error:\n",
            "Traceback (most recent call last):\n",
            "  File \"/usr/local/lib/python3.10/dist-packages/sklearn/model_selection/_validation.py\", line 686, in _fit_and_score\n",
            "    estimator.fit(X_train, y_train, **fit_params)\n",
            "  File \"/usr/local/lib/python3.10/dist-packages/sklearn/tree/_classes.py\", line 1247, in fit\n",
            "    super().fit(\n",
            "  File \"/usr/local/lib/python3.10/dist-packages/sklearn/tree/_classes.py\", line 177, in fit\n",
            "    self._validate_params()\n",
            "  File \"/usr/local/lib/python3.10/dist-packages/sklearn/base.py\", line 600, in _validate_params\n",
            "    validate_parameter_constraints(\n",
            "  File \"/usr/local/lib/python3.10/dist-packages/sklearn/utils/_param_validation.py\", line 97, in validate_parameter_constraints\n",
            "    raise InvalidParameterError(\n",
            "sklearn.utils._param_validation.InvalidParameterError: The 'max_features' parameter of DecisionTreeRegressor must be an int in the range [1, inf), a float in the range (0.0, 1.0], a str among {'auto' (deprecated), 'sqrt', 'log2'} or None. Got 0 instead.\n",
            "\n",
            "  warnings.warn(some_fits_failed_message, FitFailedWarning)\n",
            "/usr/local/lib/python3.10/dist-packages/sklearn/model_selection/_search.py:952: UserWarning: One or more of the test scores are non-finite: [       nan        nan        nan ... 0.47654679 0.47654679 0.47654679]\n",
            "  warnings.warn(\n"
          ]
        },
        {
          "output_type": "execute_result",
          "data": {
            "text/plain": [
              "GridSearchCV(estimator=DecisionTreeRegressor(),\n",
              "             param_grid={'criterion': ['absolute_error', 'squared_error'],\n",
              "                         'max_depth': [2, 3, 4, 6, 8, 10, 15, 20, 25, 30, 35,\n",
              "                                       40, None],\n",
              "                         'max_features': [0, 0.1, 0.15, 0.2, 0.25, 0.35, 0.4,\n",
              "                                          0.5, 0.6, 0.65, 0.75, 0.8, 0.9, 1.0],\n",
              "                         'min_samples_split': [0.1, 0.2, 0.25, 0.35, 0.4, 0.5,\n",
              "                                               0.6, 0.75, 0.8, 0.9, 1.0]})"
            ],
            "text/html": [
              "<style>#sk-container-id-1 {color: black;background-color: white;}#sk-container-id-1 pre{padding: 0;}#sk-container-id-1 div.sk-toggleable {background-color: white;}#sk-container-id-1 label.sk-toggleable__label {cursor: pointer;display: block;width: 100%;margin-bottom: 0;padding: 0.3em;box-sizing: border-box;text-align: center;}#sk-container-id-1 label.sk-toggleable__label-arrow:before {content: \"▸\";float: left;margin-right: 0.25em;color: #696969;}#sk-container-id-1 label.sk-toggleable__label-arrow:hover:before {color: black;}#sk-container-id-1 div.sk-estimator:hover label.sk-toggleable__label-arrow:before {color: black;}#sk-container-id-1 div.sk-toggleable__content {max-height: 0;max-width: 0;overflow: hidden;text-align: left;background-color: #f0f8ff;}#sk-container-id-1 div.sk-toggleable__content pre {margin: 0.2em;color: black;border-radius: 0.25em;background-color: #f0f8ff;}#sk-container-id-1 input.sk-toggleable__control:checked~div.sk-toggleable__content {max-height: 200px;max-width: 100%;overflow: auto;}#sk-container-id-1 input.sk-toggleable__control:checked~label.sk-toggleable__label-arrow:before {content: \"▾\";}#sk-container-id-1 div.sk-estimator input.sk-toggleable__control:checked~label.sk-toggleable__label {background-color: #d4ebff;}#sk-container-id-1 div.sk-label input.sk-toggleable__control:checked~label.sk-toggleable__label {background-color: #d4ebff;}#sk-container-id-1 input.sk-hidden--visually {border: 0;clip: rect(1px 1px 1px 1px);clip: rect(1px, 1px, 1px, 1px);height: 1px;margin: -1px;overflow: hidden;padding: 0;position: absolute;width: 1px;}#sk-container-id-1 div.sk-estimator {font-family: monospace;background-color: #f0f8ff;border: 1px dotted black;border-radius: 0.25em;box-sizing: border-box;margin-bottom: 0.5em;}#sk-container-id-1 div.sk-estimator:hover {background-color: #d4ebff;}#sk-container-id-1 div.sk-parallel-item::after {content: \"\";width: 100%;border-bottom: 1px solid gray;flex-grow: 1;}#sk-container-id-1 div.sk-label:hover label.sk-toggleable__label {background-color: #d4ebff;}#sk-container-id-1 div.sk-serial::before {content: \"\";position: absolute;border-left: 1px solid gray;box-sizing: border-box;top: 0;bottom: 0;left: 50%;z-index: 0;}#sk-container-id-1 div.sk-serial {display: flex;flex-direction: column;align-items: center;background-color: white;padding-right: 0.2em;padding-left: 0.2em;position: relative;}#sk-container-id-1 div.sk-item {position: relative;z-index: 1;}#sk-container-id-1 div.sk-parallel {display: flex;align-items: stretch;justify-content: center;background-color: white;position: relative;}#sk-container-id-1 div.sk-item::before, #sk-container-id-1 div.sk-parallel-item::before {content: \"\";position: absolute;border-left: 1px solid gray;box-sizing: border-box;top: 0;bottom: 0;left: 50%;z-index: -1;}#sk-container-id-1 div.sk-parallel-item {display: flex;flex-direction: column;z-index: 1;position: relative;background-color: white;}#sk-container-id-1 div.sk-parallel-item:first-child::after {align-self: flex-end;width: 50%;}#sk-container-id-1 div.sk-parallel-item:last-child::after {align-self: flex-start;width: 50%;}#sk-container-id-1 div.sk-parallel-item:only-child::after {width: 0;}#sk-container-id-1 div.sk-dashed-wrapped {border: 1px dashed gray;margin: 0 0.4em 0.5em 0.4em;box-sizing: border-box;padding-bottom: 0.4em;background-color: white;}#sk-container-id-1 div.sk-label label {font-family: monospace;font-weight: bold;display: inline-block;line-height: 1.2em;}#sk-container-id-1 div.sk-label-container {text-align: center;}#sk-container-id-1 div.sk-container {/* jupyter's `normalize.less` sets `[hidden] { display: none; }` but bootstrap.min.css set `[hidden] { display: none !important; }` so we also need the `!important` here to be able to override the default hidden behavior on the sphinx rendered scikit-learn.org. See: https://github.com/scikit-learn/scikit-learn/issues/21755 */display: inline-block !important;position: relative;}#sk-container-id-1 div.sk-text-repr-fallback {display: none;}</style><div id=\"sk-container-id-1\" class=\"sk-top-container\"><div class=\"sk-text-repr-fallback\"><pre>GridSearchCV(estimator=DecisionTreeRegressor(),\n",
              "             param_grid={&#x27;criterion&#x27;: [&#x27;absolute_error&#x27;, &#x27;squared_error&#x27;],\n",
              "                         &#x27;max_depth&#x27;: [2, 3, 4, 6, 8, 10, 15, 20, 25, 30, 35,\n",
              "                                       40, None],\n",
              "                         &#x27;max_features&#x27;: [0, 0.1, 0.15, 0.2, 0.25, 0.35, 0.4,\n",
              "                                          0.5, 0.6, 0.65, 0.75, 0.8, 0.9, 1.0],\n",
              "                         &#x27;min_samples_split&#x27;: [0.1, 0.2, 0.25, 0.35, 0.4, 0.5,\n",
              "                                               0.6, 0.75, 0.8, 0.9, 1.0]})</pre><b>In a Jupyter environment, please rerun this cell to show the HTML representation or trust the notebook. <br />On GitHub, the HTML representation is unable to render, please try loading this page with nbviewer.org.</b></div><div class=\"sk-container\" hidden><div class=\"sk-item sk-dashed-wrapped\"><div class=\"sk-label-container\"><div class=\"sk-label sk-toggleable\"><input class=\"sk-toggleable__control sk-hidden--visually\" id=\"sk-estimator-id-1\" type=\"checkbox\" ><label for=\"sk-estimator-id-1\" class=\"sk-toggleable__label sk-toggleable__label-arrow\">GridSearchCV</label><div class=\"sk-toggleable__content\"><pre>GridSearchCV(estimator=DecisionTreeRegressor(),\n",
              "             param_grid={&#x27;criterion&#x27;: [&#x27;absolute_error&#x27;, &#x27;squared_error&#x27;],\n",
              "                         &#x27;max_depth&#x27;: [2, 3, 4, 6, 8, 10, 15, 20, 25, 30, 35,\n",
              "                                       40, None],\n",
              "                         &#x27;max_features&#x27;: [0, 0.1, 0.15, 0.2, 0.25, 0.35, 0.4,\n",
              "                                          0.5, 0.6, 0.65, 0.75, 0.8, 0.9, 1.0],\n",
              "                         &#x27;min_samples_split&#x27;: [0.1, 0.2, 0.25, 0.35, 0.4, 0.5,\n",
              "                                               0.6, 0.75, 0.8, 0.9, 1.0]})</pre></div></div></div><div class=\"sk-parallel\"><div class=\"sk-parallel-item\"><div class=\"sk-item\"><div class=\"sk-label-container\"><div class=\"sk-label sk-toggleable\"><input class=\"sk-toggleable__control sk-hidden--visually\" id=\"sk-estimator-id-2\" type=\"checkbox\" ><label for=\"sk-estimator-id-2\" class=\"sk-toggleable__label sk-toggleable__label-arrow\">estimator: DecisionTreeRegressor</label><div class=\"sk-toggleable__content\"><pre>DecisionTreeRegressor()</pre></div></div></div><div class=\"sk-serial\"><div class=\"sk-item\"><div class=\"sk-estimator sk-toggleable\"><input class=\"sk-toggleable__control sk-hidden--visually\" id=\"sk-estimator-id-3\" type=\"checkbox\" ><label for=\"sk-estimator-id-3\" class=\"sk-toggleable__label sk-toggleable__label-arrow\">DecisionTreeRegressor</label><div class=\"sk-toggleable__content\"><pre>DecisionTreeRegressor()</pre></div></div></div></div></div></div></div></div></div></div>"
            ]
          },
          "metadata": {},
          "execution_count": 60
        }
      ]
    },
    {
      "cell_type": "code",
      "source": [
        "reg.best_params_"
      ],
      "metadata": {
        "colab": {
          "base_uri": "https://localhost:8080/"
        },
        "id": "wJEpLvCWWPTo",
        "outputId": "f80a50ee-5795-4048-a5df-10647c89ac60"
      },
      "execution_count": null,
      "outputs": [
        {
          "output_type": "execute_result",
          "data": {
            "text/plain": [
              "{'criterion': 'squared_error',\n",
              " 'max_depth': 4,\n",
              " 'max_features': 1.0,\n",
              " 'min_samples_split': 0.2}"
            ]
          },
          "metadata": {},
          "execution_count": 61
        }
      ]
    },
    {
      "cell_type": "code",
      "source": [
        "reg.best_score_"
      ],
      "metadata": {
        "colab": {
          "base_uri": "https://localhost:8080/"
        },
        "id": "DJcxAhT8WQRF",
        "outputId": "4992bc9b-630f-4613-9b6e-231812876d1a"
      },
      "execution_count": null,
      "outputs": [
        {
          "output_type": "execute_result",
          "data": {
            "text/plain": [
              "0.7294064860772858"
            ]
          },
          "metadata": {},
          "execution_count": 62
        }
      ]
    },
    {
      "cell_type": "code",
      "source": [
        "rt = DecisionTreeRegressor(criterion = 'squared_error', max_depth=4, max_features=1, min_samples_split= 0.2, splitter='random')"
      ],
      "metadata": {
        "id": "W80iAuyVXK9Q"
      },
      "execution_count": null,
      "outputs": []
    },
    {
      "cell_type": "code",
      "source": [
        "rt.fit(X,y)"
      ],
      "metadata": {
        "colab": {
          "base_uri": "https://localhost:8080/",
          "height": 91
        },
        "id": "I9w8cIG0XLG5",
        "outputId": "90d7e2fe-5c8e-49f9-c524-29c0ad3aec8c"
      },
      "execution_count": null,
      "outputs": [
        {
          "output_type": "execute_result",
          "data": {
            "text/plain": [
              "DecisionTreeRegressor(max_depth=4, max_features=1, min_samples_split=0.2,\n",
              "                      splitter='random')"
            ],
            "text/html": [
              "<style>#sk-container-id-2 {color: black;background-color: white;}#sk-container-id-2 pre{padding: 0;}#sk-container-id-2 div.sk-toggleable {background-color: white;}#sk-container-id-2 label.sk-toggleable__label {cursor: pointer;display: block;width: 100%;margin-bottom: 0;padding: 0.3em;box-sizing: border-box;text-align: center;}#sk-container-id-2 label.sk-toggleable__label-arrow:before {content: \"▸\";float: left;margin-right: 0.25em;color: #696969;}#sk-container-id-2 label.sk-toggleable__label-arrow:hover:before {color: black;}#sk-container-id-2 div.sk-estimator:hover label.sk-toggleable__label-arrow:before {color: black;}#sk-container-id-2 div.sk-toggleable__content {max-height: 0;max-width: 0;overflow: hidden;text-align: left;background-color: #f0f8ff;}#sk-container-id-2 div.sk-toggleable__content pre {margin: 0.2em;color: black;border-radius: 0.25em;background-color: #f0f8ff;}#sk-container-id-2 input.sk-toggleable__control:checked~div.sk-toggleable__content {max-height: 200px;max-width: 100%;overflow: auto;}#sk-container-id-2 input.sk-toggleable__control:checked~label.sk-toggleable__label-arrow:before {content: \"▾\";}#sk-container-id-2 div.sk-estimator input.sk-toggleable__control:checked~label.sk-toggleable__label {background-color: #d4ebff;}#sk-container-id-2 div.sk-label input.sk-toggleable__control:checked~label.sk-toggleable__label {background-color: #d4ebff;}#sk-container-id-2 input.sk-hidden--visually {border: 0;clip: rect(1px 1px 1px 1px);clip: rect(1px, 1px, 1px, 1px);height: 1px;margin: -1px;overflow: hidden;padding: 0;position: absolute;width: 1px;}#sk-container-id-2 div.sk-estimator {font-family: monospace;background-color: #f0f8ff;border: 1px dotted black;border-radius: 0.25em;box-sizing: border-box;margin-bottom: 0.5em;}#sk-container-id-2 div.sk-estimator:hover {background-color: #d4ebff;}#sk-container-id-2 div.sk-parallel-item::after {content: \"\";width: 100%;border-bottom: 1px solid gray;flex-grow: 1;}#sk-container-id-2 div.sk-label:hover label.sk-toggleable__label {background-color: #d4ebff;}#sk-container-id-2 div.sk-serial::before {content: \"\";position: absolute;border-left: 1px solid gray;box-sizing: border-box;top: 0;bottom: 0;left: 50%;z-index: 0;}#sk-container-id-2 div.sk-serial {display: flex;flex-direction: column;align-items: center;background-color: white;padding-right: 0.2em;padding-left: 0.2em;position: relative;}#sk-container-id-2 div.sk-item {position: relative;z-index: 1;}#sk-container-id-2 div.sk-parallel {display: flex;align-items: stretch;justify-content: center;background-color: white;position: relative;}#sk-container-id-2 div.sk-item::before, #sk-container-id-2 div.sk-parallel-item::before {content: \"\";position: absolute;border-left: 1px solid gray;box-sizing: border-box;top: 0;bottom: 0;left: 50%;z-index: -1;}#sk-container-id-2 div.sk-parallel-item {display: flex;flex-direction: column;z-index: 1;position: relative;background-color: white;}#sk-container-id-2 div.sk-parallel-item:first-child::after {align-self: flex-end;width: 50%;}#sk-container-id-2 div.sk-parallel-item:last-child::after {align-self: flex-start;width: 50%;}#sk-container-id-2 div.sk-parallel-item:only-child::after {width: 0;}#sk-container-id-2 div.sk-dashed-wrapped {border: 1px dashed gray;margin: 0 0.4em 0.5em 0.4em;box-sizing: border-box;padding-bottom: 0.4em;background-color: white;}#sk-container-id-2 div.sk-label label {font-family: monospace;font-weight: bold;display: inline-block;line-height: 1.2em;}#sk-container-id-2 div.sk-label-container {text-align: center;}#sk-container-id-2 div.sk-container {/* jupyter's `normalize.less` sets `[hidden] { display: none; }` but bootstrap.min.css set `[hidden] { display: none !important; }` so we also need the `!important` here to be able to override the default hidden behavior on the sphinx rendered scikit-learn.org. See: https://github.com/scikit-learn/scikit-learn/issues/21755 */display: inline-block !important;position: relative;}#sk-container-id-2 div.sk-text-repr-fallback {display: none;}</style><div id=\"sk-container-id-2\" class=\"sk-top-container\"><div class=\"sk-text-repr-fallback\"><pre>DecisionTreeRegressor(max_depth=4, max_features=1, min_samples_split=0.2,\n",
              "                      splitter=&#x27;random&#x27;)</pre><b>In a Jupyter environment, please rerun this cell to show the HTML representation or trust the notebook. <br />On GitHub, the HTML representation is unable to render, please try loading this page with nbviewer.org.</b></div><div class=\"sk-container\" hidden><div class=\"sk-item\"><div class=\"sk-estimator sk-toggleable\"><input class=\"sk-toggleable__control sk-hidden--visually\" id=\"sk-estimator-id-4\" type=\"checkbox\" checked><label for=\"sk-estimator-id-4\" class=\"sk-toggleable__label sk-toggleable__label-arrow\">DecisionTreeRegressor</label><div class=\"sk-toggleable__content\"><pre>DecisionTreeRegressor(max_depth=4, max_features=1, min_samples_split=0.2,\n",
              "                      splitter=&#x27;random&#x27;)</pre></div></div></div></div></div>"
            ]
          },
          "metadata": {},
          "execution_count": 64
        }
      ]
    },
    {
      "cell_type": "markdown",
      "source": [
        "Final Prediction of Decision tree"
      ],
      "metadata": {
        "id": "pvhHB0yOYWBd"
      }
    },
    {
      "cell_type": "code",
      "source": [
        "rt.predict(datas)\n",
        "#Not the best hyperparameters for the test dataset. We obtained the highest r2 score on test dataset by changing the parameters"
      ],
      "metadata": {
        "id": "WNUQUFkfXLKY",
        "colab": {
          "base_uri": "https://localhost:8080/"
        },
        "outputId": "39439266-e0fe-4a30-931c-85464ca0d709"
      },
      "execution_count": null,
      "outputs": [
        {
          "output_type": "execute_result",
          "data": {
            "text/plain": [
              "array([6.46980811, 6.46980811, 4.60971405, 6.46980811, 6.46980811,\n",
              "       7.00190476, 6.46980811, 6.46980811, 6.46980811, 5.64484127,\n",
              "       7.00190476, 7.00190476, 6.46980811, 6.46980811, 6.46980811,\n",
              "       6.46980811, 7.00190476, 7.00190476, 4.60971405, 6.46980811,\n",
              "       5.64484127, 6.46980811, 5.64484127, 7.00190476, 6.46980811,\n",
              "       4.60971405, 6.46980811, 6.46980811, 6.46980811, 6.46980811,\n",
              "       6.46980811, 5.64484127, 6.46980811, 6.46980811, 6.46980811,\n",
              "       5.64484127, 6.46980811, 7.00190476, 6.46980811, 5.64484127,\n",
              "       4.60971405, 6.46980811, 6.46980811, 5.64484127, 4.60971405,\n",
              "       6.46980811, 6.46980811, 7.00190476, 6.46980811, 4.60971405,\n",
              "       6.46980811, 6.46980811, 4.60971405, 6.46980811, 6.46980811,\n",
              "       6.46980811, 7.00190476, 7.00190476, 6.46980811, 6.46980811,\n",
              "       6.46980811, 6.46980811, 7.00190476, 6.46980811, 7.00190476,\n",
              "       6.46980811, 7.00190476, 6.46980811, 7.00190476, 7.00190476,\n",
              "       7.00190476, 6.46980811, 4.60971405, 7.00190476, 6.46980811,\n",
              "       6.46980811, 6.46980811, 7.00190476, 5.64484127, 6.46980811,\n",
              "       6.46980811, 6.46980811, 7.00190476, 6.46980811, 6.46980811,\n",
              "       4.60971405, 6.46980811, 7.00190476, 4.60971405, 7.00190476,\n",
              "       6.46980811, 7.00190476, 6.46980811, 6.46980811, 7.00190476,\n",
              "       4.60971405, 7.00190476, 6.46980811, 7.00190476, 6.46980811,\n",
              "       6.46980811, 6.46980811, 6.46980811, 6.46980811, 6.46980811,\n",
              "       7.00190476, 6.46980811, 6.46980811, 6.46980811, 6.46980811,\n",
              "       6.46980811, 4.60971405, 4.60971405, 6.46980811, 7.00190476,\n",
              "       6.46980811, 7.00190476, 6.46980811, 4.60971405, 7.00190476,\n",
              "       6.46980811, 6.46980811, 6.46980811, 6.46980811, 6.46980811,\n",
              "       6.46980811, 6.46980811, 6.10229277, 4.60971405, 6.46980811,\n",
              "       4.60971405, 6.46980811, 6.46980811, 5.64484127, 6.46980811,\n",
              "       6.46980811, 6.46980811, 4.60971405, 4.60971405, 6.46980811,\n",
              "       6.46980811, 4.60971405, 6.46980811, 6.46980811, 4.60971405,\n",
              "       6.46980811, 4.60971405, 6.46980811, 6.46980811, 4.60971405,\n",
              "       4.60971405, 4.60971405, 5.64484127, 4.60971405, 5.64484127,\n",
              "       6.46980811, 7.00190476, 4.60971405, 6.46980811, 4.60971405,\n",
              "       4.60971405, 4.60971405, 4.60971405, 6.46980811, 4.60971405,\n",
              "       4.60971405, 6.46980811, 6.46980811, 6.46980811, 7.00190476,\n",
              "       4.60971405, 7.00190476, 7.00190476, 4.60971405, 7.00190476,\n",
              "       6.46980811, 7.00190476, 7.00190476, 6.46980811, 6.46980811,\n",
              "       6.46980811, 6.46980811, 7.00190476, 7.00190476, 7.00190476,\n",
              "       6.46980811, 6.46980811, 6.46980811, 7.00190476, 6.46980811,\n",
              "       6.46980811, 6.46980811, 6.46980811, 7.00190476, 6.46980811,\n",
              "       6.46980811, 6.46980811, 6.46980811, 4.60971405, 7.00190476,\n",
              "       6.46980811, 7.00190476, 6.46980811, 7.00190476, 7.00190476,\n",
              "       4.60971405, 4.60971405, 6.46980811, 6.46980811, 7.00190476,\n",
              "       7.00190476, 6.46980811, 7.00190476, 4.60971405, 5.64484127,\n",
              "       7.00190476, 4.60971405, 4.60971405, 6.46980811, 6.46980811,\n",
              "       7.00190476, 4.60971405, 5.64484127, 6.46980811, 6.46980811,\n",
              "       4.60971405, 6.46980811, 7.00190476, 6.46980811, 6.46980811,\n",
              "       7.00190476, 6.46980811, 7.00190476, 7.00190476, 6.46980811,\n",
              "       7.00190476, 6.46980811, 6.46980811, 5.64484127, 4.60971405,\n",
              "       6.46980811, 6.46980811, 6.46980811, 6.46980811, 6.46980811,\n",
              "       6.46980811, 6.46980811, 4.60971405, 4.60971405, 6.10229277,\n",
              "       4.60971405, 7.00190476, 4.60971405, 6.46980811, 6.46980811,\n",
              "       4.60971405, 7.00190476, 5.64484127, 6.46980811, 5.64484127,\n",
              "       6.46980811, 6.46980811, 6.46980811, 6.46980811, 6.46980811,\n",
              "       7.00190476, 6.46980811, 7.00190476, 7.00190476, 7.00190476,\n",
              "       4.60971405, 7.00190476, 6.46980811, 6.46980811, 7.00190476,\n",
              "       6.46980811, 5.64484127, 6.46980811, 4.60971405, 6.46980811,\n",
              "       6.46980811, 4.60971405, 7.00190476, 6.46980811, 6.46980811,\n",
              "       7.00190476, 6.46980811, 7.00190476, 7.00190476, 7.00190476,\n",
              "       6.46980811, 7.00190476, 4.60971405, 7.00190476, 7.00190476,\n",
              "       6.46980811, 7.00190476, 6.46980811, 7.00190476, 6.46980811,\n",
              "       6.46980811, 5.64484127, 7.00190476, 7.00190476, 4.60971405,\n",
              "       4.60971405, 6.46980811, 4.60971405, 4.60971405, 4.60971405,\n",
              "       4.60971405, 5.64484127, 4.60971405, 4.60971405, 4.60971405,\n",
              "       4.60971405, 6.46980811, 6.46980811, 6.46980811, 6.46980811,\n",
              "       6.46980811, 6.46980811, 6.46980811, 6.46980811, 6.10229277,\n",
              "       6.46980811, 7.00190476, 6.46980811, 6.46980811, 6.46980811,\n",
              "       6.46980811, 6.46980811, 6.46980811, 6.46980811, 6.46980811,\n",
              "       6.46980811, 4.60971405, 6.46980811, 6.46980811, 6.46980811,\n",
              "       4.60971405, 4.60971405, 6.46980811, 5.64484127, 6.46980811,\n",
              "       6.46980811, 6.46980811, 6.46980811, 7.00190476, 4.60971405,\n",
              "       4.60971405, 6.46980811, 4.60971405, 4.60971405, 6.46980811,\n",
              "       6.46980811, 6.46980811, 7.00190476, 6.46980811, 6.46980811,\n",
              "       6.46980811, 4.60971405, 6.46980811, 6.46980811, 6.46980811,\n",
              "       6.46980811, 6.46980811, 5.64484127, 6.46980811, 6.46980811,\n",
              "       4.60971405, 6.46980811, 6.46980811, 6.46980811, 7.00190476,\n",
              "       6.46980811, 4.60971405, 6.46980811, 6.46980811, 7.00190476,\n",
              "       6.46980811, 6.46980811, 6.46980811, 4.60971405, 4.60971405,\n",
              "       6.46980811, 7.00190476, 4.60971405, 6.46980811, 5.64484127,\n",
              "       4.60971405, 6.46980811, 4.60971405, 5.64484127, 6.46980811,\n",
              "       6.46980811, 4.60971405])"
            ]
          },
          "metadata": {},
          "execution_count": 65
        }
      ]
    },
    {
      "cell_type": "markdown",
      "source": [
        "###SVM###"
      ],
      "metadata": {
        "id": "-8bKcUEPdhnr"
      }
    },
    {
      "cell_type": "code",
      "source": [
        "X_train_svm, X_test_svm, y_train_svm, y_test_svm = train_test_split(X, y, test_size=0.2,random_state=42)"
      ],
      "metadata": {
        "id": "xkab1zHad2Tn"
      },
      "execution_count": null,
      "outputs": []
    },
    {
      "cell_type": "code",
      "source": [
        "from sklearn.svm import SVR"
      ],
      "metadata": {
        "id": "WhIrMncQeiO4"
      },
      "execution_count": null,
      "outputs": []
    },
    {
      "cell_type": "code",
      "source": [
        "param_grid = {'C': [0.1,1, 10, 100, 1000], 'gamma': [1,0.1,0.01,0.001,0.0001], 'kernel': ['rbf']}"
      ],
      "metadata": {
        "id": "MZebecfRemyC"
      },
      "execution_count": null,
      "outputs": []
    },
    {
      "cell_type": "code",
      "source": [
        "grid = GridSearchCV(SVR(),param_grid,refit=True,verbose=2)"
      ],
      "metadata": {
        "id": "ndliUmFievF7"
      },
      "execution_count": null,
      "outputs": []
    },
    {
      "cell_type": "code",
      "source": [
        "grid.fit(X_train_svm,y_train_svm)"
      ],
      "metadata": {
        "colab": {
          "base_uri": "https://localhost:8080/",
          "height": 1000
        },
        "id": "Nrrje-yBewLE",
        "outputId": "7c959d26-ac8c-46c7-bef8-b9b86a8a1630"
      },
      "execution_count": null,
      "outputs": [
        {
          "output_type": "stream",
          "name": "stdout",
          "text": [
            "Fitting 5 folds for each of 25 candidates, totalling 125 fits\n",
            "[CV] END .........................C=0.1, gamma=1, kernel=rbf; total time=   0.0s\n",
            "[CV] END .........................C=0.1, gamma=1, kernel=rbf; total time=   0.0s\n",
            "[CV] END .........................C=0.1, gamma=1, kernel=rbf; total time=   0.0s\n",
            "[CV] END .........................C=0.1, gamma=1, kernel=rbf; total time=   0.0s\n",
            "[CV] END .........................C=0.1, gamma=1, kernel=rbf; total time=   0.0s\n",
            "[CV] END .......................C=0.1, gamma=0.1, kernel=rbf; total time=   0.0s\n",
            "[CV] END .......................C=0.1, gamma=0.1, kernel=rbf; total time=   0.0s\n",
            "[CV] END .......................C=0.1, gamma=0.1, kernel=rbf; total time=   0.0s\n",
            "[CV] END .......................C=0.1, gamma=0.1, kernel=rbf; total time=   0.0s\n",
            "[CV] END .......................C=0.1, gamma=0.1, kernel=rbf; total time=   0.0s\n",
            "[CV] END ......................C=0.1, gamma=0.01, kernel=rbf; total time=   0.0s\n",
            "[CV] END ......................C=0.1, gamma=0.01, kernel=rbf; total time=   0.0s\n",
            "[CV] END ......................C=0.1, gamma=0.01, kernel=rbf; total time=   0.0s\n",
            "[CV] END ......................C=0.1, gamma=0.01, kernel=rbf; total time=   0.0s\n",
            "[CV] END ......................C=0.1, gamma=0.01, kernel=rbf; total time=   0.0s\n",
            "[CV] END .....................C=0.1, gamma=0.001, kernel=rbf; total time=   0.0s\n",
            "[CV] END .....................C=0.1, gamma=0.001, kernel=rbf; total time=   0.0s\n",
            "[CV] END .....................C=0.1, gamma=0.001, kernel=rbf; total time=   0.0s\n",
            "[CV] END .....................C=0.1, gamma=0.001, kernel=rbf; total time=   0.0s\n",
            "[CV] END .....................C=0.1, gamma=0.001, kernel=rbf; total time=   0.0s\n",
            "[CV] END ....................C=0.1, gamma=0.0001, kernel=rbf; total time=   0.0s\n",
            "[CV] END ....................C=0.1, gamma=0.0001, kernel=rbf; total time=   0.0s\n",
            "[CV] END ....................C=0.1, gamma=0.0001, kernel=rbf; total time=   0.0s\n",
            "[CV] END ....................C=0.1, gamma=0.0001, kernel=rbf; total time=   0.0s\n",
            "[CV] END ....................C=0.1, gamma=0.0001, kernel=rbf; total time=   0.0s\n",
            "[CV] END ...........................C=1, gamma=1, kernel=rbf; total time=   0.0s\n",
            "[CV] END ...........................C=1, gamma=1, kernel=rbf; total time=   0.0s\n",
            "[CV] END ...........................C=1, gamma=1, kernel=rbf; total time=   0.0s\n",
            "[CV] END ...........................C=1, gamma=1, kernel=rbf; total time=   0.0s\n",
            "[CV] END ...........................C=1, gamma=1, kernel=rbf; total time=   0.0s\n",
            "[CV] END .........................C=1, gamma=0.1, kernel=rbf; total time=   0.0s\n",
            "[CV] END .........................C=1, gamma=0.1, kernel=rbf; total time=   0.0s\n",
            "[CV] END .........................C=1, gamma=0.1, kernel=rbf; total time=   0.1s\n",
            "[CV] END .........................C=1, gamma=0.1, kernel=rbf; total time=   0.0s\n",
            "[CV] END .........................C=1, gamma=0.1, kernel=rbf; total time=   0.0s\n",
            "[CV] END ........................C=1, gamma=0.01, kernel=rbf; total time=   0.0s\n",
            "[CV] END ........................C=1, gamma=0.01, kernel=rbf; total time=   0.0s\n",
            "[CV] END ........................C=1, gamma=0.01, kernel=rbf; total time=   0.0s\n",
            "[CV] END ........................C=1, gamma=0.01, kernel=rbf; total time=   0.0s\n",
            "[CV] END ........................C=1, gamma=0.01, kernel=rbf; total time=   0.0s\n",
            "[CV] END .......................C=1, gamma=0.001, kernel=rbf; total time=   0.0s\n",
            "[CV] END .......................C=1, gamma=0.001, kernel=rbf; total time=   0.0s\n",
            "[CV] END .......................C=1, gamma=0.001, kernel=rbf; total time=   0.0s\n",
            "[CV] END .......................C=1, gamma=0.001, kernel=rbf; total time=   0.0s\n",
            "[CV] END .......................C=1, gamma=0.001, kernel=rbf; total time=   0.0s\n",
            "[CV] END ......................C=1, gamma=0.0001, kernel=rbf; total time=   0.0s\n",
            "[CV] END ......................C=1, gamma=0.0001, kernel=rbf; total time=   0.0s\n",
            "[CV] END ......................C=1, gamma=0.0001, kernel=rbf; total time=   0.0s\n",
            "[CV] END ......................C=1, gamma=0.0001, kernel=rbf; total time=   0.0s\n",
            "[CV] END ......................C=1, gamma=0.0001, kernel=rbf; total time=   0.0s\n",
            "[CV] END ..........................C=10, gamma=1, kernel=rbf; total time=   0.0s\n",
            "[CV] END ..........................C=10, gamma=1, kernel=rbf; total time=   0.0s\n",
            "[CV] END ..........................C=10, gamma=1, kernel=rbf; total time=   0.0s\n",
            "[CV] END ..........................C=10, gamma=1, kernel=rbf; total time=   0.0s\n",
            "[CV] END ..........................C=10, gamma=1, kernel=rbf; total time=   0.0s\n",
            "[CV] END ........................C=10, gamma=0.1, kernel=rbf; total time=   0.1s\n",
            "[CV] END ........................C=10, gamma=0.1, kernel=rbf; total time=   0.1s\n",
            "[CV] END ........................C=10, gamma=0.1, kernel=rbf; total time=   0.1s\n",
            "[CV] END ........................C=10, gamma=0.1, kernel=rbf; total time=   0.1s\n",
            "[CV] END ........................C=10, gamma=0.1, kernel=rbf; total time=   0.1s\n",
            "[CV] END .......................C=10, gamma=0.01, kernel=rbf; total time=   0.0s\n",
            "[CV] END .......................C=10, gamma=0.01, kernel=rbf; total time=   0.0s\n",
            "[CV] END .......................C=10, gamma=0.01, kernel=rbf; total time=   0.0s\n",
            "[CV] END .......................C=10, gamma=0.01, kernel=rbf; total time=   0.0s\n",
            "[CV] END .......................C=10, gamma=0.01, kernel=rbf; total time=   0.0s\n",
            "[CV] END ......................C=10, gamma=0.001, kernel=rbf; total time=   0.0s\n",
            "[CV] END ......................C=10, gamma=0.001, kernel=rbf; total time=   0.0s\n",
            "[CV] END ......................C=10, gamma=0.001, kernel=rbf; total time=   0.0s\n",
            "[CV] END ......................C=10, gamma=0.001, kernel=rbf; total time=   0.0s\n",
            "[CV] END ......................C=10, gamma=0.001, kernel=rbf; total time=   0.0s\n",
            "[CV] END .....................C=10, gamma=0.0001, kernel=rbf; total time=   0.0s\n",
            "[CV] END .....................C=10, gamma=0.0001, kernel=rbf; total time=   0.0s\n",
            "[CV] END .....................C=10, gamma=0.0001, kernel=rbf; total time=   0.0s\n",
            "[CV] END .....................C=10, gamma=0.0001, kernel=rbf; total time=   0.0s\n",
            "[CV] END .....................C=10, gamma=0.0001, kernel=rbf; total time=   0.0s\n",
            "[CV] END .........................C=100, gamma=1, kernel=rbf; total time=   0.0s\n",
            "[CV] END .........................C=100, gamma=1, kernel=rbf; total time=   0.0s\n",
            "[CV] END .........................C=100, gamma=1, kernel=rbf; total time=   0.0s\n",
            "[CV] END .........................C=100, gamma=1, kernel=rbf; total time=   0.0s\n",
            "[CV] END .........................C=100, gamma=1, kernel=rbf; total time=   0.0s\n",
            "[CV] END .......................C=100, gamma=0.1, kernel=rbf; total time=   0.1s\n",
            "[CV] END .......................C=100, gamma=0.1, kernel=rbf; total time=   0.1s\n",
            "[CV] END .......................C=100, gamma=0.1, kernel=rbf; total time=   0.1s\n",
            "[CV] END .......................C=100, gamma=0.1, kernel=rbf; total time=   0.1s\n",
            "[CV] END .......................C=100, gamma=0.1, kernel=rbf; total time=   0.1s\n",
            "[CV] END ......................C=100, gamma=0.01, kernel=rbf; total time=   0.1s\n",
            "[CV] END ......................C=100, gamma=0.01, kernel=rbf; total time=   0.1s\n",
            "[CV] END ......................C=100, gamma=0.01, kernel=rbf; total time=   0.1s\n",
            "[CV] END ......................C=100, gamma=0.01, kernel=rbf; total time=   0.1s\n",
            "[CV] END ......................C=100, gamma=0.01, kernel=rbf; total time=   0.1s\n",
            "[CV] END .....................C=100, gamma=0.001, kernel=rbf; total time=   0.0s\n",
            "[CV] END .....................C=100, gamma=0.001, kernel=rbf; total time=   0.0s\n",
            "[CV] END .....................C=100, gamma=0.001, kernel=rbf; total time=   0.0s\n",
            "[CV] END .....................C=100, gamma=0.001, kernel=rbf; total time=   0.0s\n",
            "[CV] END .....................C=100, gamma=0.001, kernel=rbf; total time=   0.0s\n",
            "[CV] END ....................C=100, gamma=0.0001, kernel=rbf; total time=   0.0s\n",
            "[CV] END ....................C=100, gamma=0.0001, kernel=rbf; total time=   0.0s\n",
            "[CV] END ....................C=100, gamma=0.0001, kernel=rbf; total time=   0.0s\n",
            "[CV] END ....................C=100, gamma=0.0001, kernel=rbf; total time=   0.0s\n",
            "[CV] END ....................C=100, gamma=0.0001, kernel=rbf; total time=   0.0s\n",
            "[CV] END ........................C=1000, gamma=1, kernel=rbf; total time=   0.1s\n",
            "[CV] END ........................C=1000, gamma=1, kernel=rbf; total time=   0.0s\n",
            "[CV] END ........................C=1000, gamma=1, kernel=rbf; total time=   0.0s\n",
            "[CV] END ........................C=1000, gamma=1, kernel=rbf; total time=   0.0s\n",
            "[CV] END ........................C=1000, gamma=1, kernel=rbf; total time=   0.0s\n",
            "[CV] END ......................C=1000, gamma=0.1, kernel=rbf; total time=   0.1s\n",
            "[CV] END ......................C=1000, gamma=0.1, kernel=rbf; total time=   0.1s\n",
            "[CV] END ......................C=1000, gamma=0.1, kernel=rbf; total time=   0.1s\n",
            "[CV] END ......................C=1000, gamma=0.1, kernel=rbf; total time=   0.1s\n",
            "[CV] END ......................C=1000, gamma=0.1, kernel=rbf; total time=   0.1s\n",
            "[CV] END .....................C=1000, gamma=0.01, kernel=rbf; total time=   0.9s\n",
            "[CV] END .....................C=1000, gamma=0.01, kernel=rbf; total time=   0.7s\n",
            "[CV] END .....................C=1000, gamma=0.01, kernel=rbf; total time=   0.9s\n",
            "[CV] END .....................C=1000, gamma=0.01, kernel=rbf; total time=   1.0s\n",
            "[CV] END .....................C=1000, gamma=0.01, kernel=rbf; total time=   1.7s\n",
            "[CV] END ....................C=1000, gamma=0.001, kernel=rbf; total time=   0.3s\n",
            "[CV] END ....................C=1000, gamma=0.001, kernel=rbf; total time=   0.1s\n",
            "[CV] END ....................C=1000, gamma=0.001, kernel=rbf; total time=   0.2s\n",
            "[CV] END ....................C=1000, gamma=0.001, kernel=rbf; total time=   0.2s\n",
            "[CV] END ....................C=1000, gamma=0.001, kernel=rbf; total time=   0.2s\n",
            "[CV] END ...................C=1000, gamma=0.0001, kernel=rbf; total time=   0.1s\n",
            "[CV] END ...................C=1000, gamma=0.0001, kernel=rbf; total time=   0.1s\n",
            "[CV] END ...................C=1000, gamma=0.0001, kernel=rbf; total time=   0.1s\n",
            "[CV] END ...................C=1000, gamma=0.0001, kernel=rbf; total time=   0.0s\n",
            "[CV] END ...................C=1000, gamma=0.0001, kernel=rbf; total time=   0.0s\n"
          ]
        },
        {
          "output_type": "execute_result",
          "data": {
            "text/plain": [
              "GridSearchCV(estimator=SVR(),\n",
              "             param_grid={'C': [0.1, 1, 10, 100, 1000],\n",
              "                         'gamma': [1, 0.1, 0.01, 0.001, 0.0001],\n",
              "                         'kernel': ['rbf']},\n",
              "             verbose=2)"
            ],
            "text/html": [
              "<style>#sk-container-id-3 {color: black;background-color: white;}#sk-container-id-3 pre{padding: 0;}#sk-container-id-3 div.sk-toggleable {background-color: white;}#sk-container-id-3 label.sk-toggleable__label {cursor: pointer;display: block;width: 100%;margin-bottom: 0;padding: 0.3em;box-sizing: border-box;text-align: center;}#sk-container-id-3 label.sk-toggleable__label-arrow:before {content: \"▸\";float: left;margin-right: 0.25em;color: #696969;}#sk-container-id-3 label.sk-toggleable__label-arrow:hover:before {color: black;}#sk-container-id-3 div.sk-estimator:hover label.sk-toggleable__label-arrow:before {color: black;}#sk-container-id-3 div.sk-toggleable__content {max-height: 0;max-width: 0;overflow: hidden;text-align: left;background-color: #f0f8ff;}#sk-container-id-3 div.sk-toggleable__content pre {margin: 0.2em;color: black;border-radius: 0.25em;background-color: #f0f8ff;}#sk-container-id-3 input.sk-toggleable__control:checked~div.sk-toggleable__content {max-height: 200px;max-width: 100%;overflow: auto;}#sk-container-id-3 input.sk-toggleable__control:checked~label.sk-toggleable__label-arrow:before {content: \"▾\";}#sk-container-id-3 div.sk-estimator input.sk-toggleable__control:checked~label.sk-toggleable__label {background-color: #d4ebff;}#sk-container-id-3 div.sk-label input.sk-toggleable__control:checked~label.sk-toggleable__label {background-color: #d4ebff;}#sk-container-id-3 input.sk-hidden--visually {border: 0;clip: rect(1px 1px 1px 1px);clip: rect(1px, 1px, 1px, 1px);height: 1px;margin: -1px;overflow: hidden;padding: 0;position: absolute;width: 1px;}#sk-container-id-3 div.sk-estimator {font-family: monospace;background-color: #f0f8ff;border: 1px dotted black;border-radius: 0.25em;box-sizing: border-box;margin-bottom: 0.5em;}#sk-container-id-3 div.sk-estimator:hover {background-color: #d4ebff;}#sk-container-id-3 div.sk-parallel-item::after {content: \"\";width: 100%;border-bottom: 1px solid gray;flex-grow: 1;}#sk-container-id-3 div.sk-label:hover label.sk-toggleable__label {background-color: #d4ebff;}#sk-container-id-3 div.sk-serial::before {content: \"\";position: absolute;border-left: 1px solid gray;box-sizing: border-box;top: 0;bottom: 0;left: 50%;z-index: 0;}#sk-container-id-3 div.sk-serial {display: flex;flex-direction: column;align-items: center;background-color: white;padding-right: 0.2em;padding-left: 0.2em;position: relative;}#sk-container-id-3 div.sk-item {position: relative;z-index: 1;}#sk-container-id-3 div.sk-parallel {display: flex;align-items: stretch;justify-content: center;background-color: white;position: relative;}#sk-container-id-3 div.sk-item::before, #sk-container-id-3 div.sk-parallel-item::before {content: \"\";position: absolute;border-left: 1px solid gray;box-sizing: border-box;top: 0;bottom: 0;left: 50%;z-index: -1;}#sk-container-id-3 div.sk-parallel-item {display: flex;flex-direction: column;z-index: 1;position: relative;background-color: white;}#sk-container-id-3 div.sk-parallel-item:first-child::after {align-self: flex-end;width: 50%;}#sk-container-id-3 div.sk-parallel-item:last-child::after {align-self: flex-start;width: 50%;}#sk-container-id-3 div.sk-parallel-item:only-child::after {width: 0;}#sk-container-id-3 div.sk-dashed-wrapped {border: 1px dashed gray;margin: 0 0.4em 0.5em 0.4em;box-sizing: border-box;padding-bottom: 0.4em;background-color: white;}#sk-container-id-3 div.sk-label label {font-family: monospace;font-weight: bold;display: inline-block;line-height: 1.2em;}#sk-container-id-3 div.sk-label-container {text-align: center;}#sk-container-id-3 div.sk-container {/* jupyter's `normalize.less` sets `[hidden] { display: none; }` but bootstrap.min.css set `[hidden] { display: none !important; }` so we also need the `!important` here to be able to override the default hidden behavior on the sphinx rendered scikit-learn.org. See: https://github.com/scikit-learn/scikit-learn/issues/21755 */display: inline-block !important;position: relative;}#sk-container-id-3 div.sk-text-repr-fallback {display: none;}</style><div id=\"sk-container-id-3\" class=\"sk-top-container\"><div class=\"sk-text-repr-fallback\"><pre>GridSearchCV(estimator=SVR(),\n",
              "             param_grid={&#x27;C&#x27;: [0.1, 1, 10, 100, 1000],\n",
              "                         &#x27;gamma&#x27;: [1, 0.1, 0.01, 0.001, 0.0001],\n",
              "                         &#x27;kernel&#x27;: [&#x27;rbf&#x27;]},\n",
              "             verbose=2)</pre><b>In a Jupyter environment, please rerun this cell to show the HTML representation or trust the notebook. <br />On GitHub, the HTML representation is unable to render, please try loading this page with nbviewer.org.</b></div><div class=\"sk-container\" hidden><div class=\"sk-item sk-dashed-wrapped\"><div class=\"sk-label-container\"><div class=\"sk-label sk-toggleable\"><input class=\"sk-toggleable__control sk-hidden--visually\" id=\"sk-estimator-id-5\" type=\"checkbox\" ><label for=\"sk-estimator-id-5\" class=\"sk-toggleable__label sk-toggleable__label-arrow\">GridSearchCV</label><div class=\"sk-toggleable__content\"><pre>GridSearchCV(estimator=SVR(),\n",
              "             param_grid={&#x27;C&#x27;: [0.1, 1, 10, 100, 1000],\n",
              "                         &#x27;gamma&#x27;: [1, 0.1, 0.01, 0.001, 0.0001],\n",
              "                         &#x27;kernel&#x27;: [&#x27;rbf&#x27;]},\n",
              "             verbose=2)</pre></div></div></div><div class=\"sk-parallel\"><div class=\"sk-parallel-item\"><div class=\"sk-item\"><div class=\"sk-label-container\"><div class=\"sk-label sk-toggleable\"><input class=\"sk-toggleable__control sk-hidden--visually\" id=\"sk-estimator-id-6\" type=\"checkbox\" ><label for=\"sk-estimator-id-6\" class=\"sk-toggleable__label sk-toggleable__label-arrow\">estimator: SVR</label><div class=\"sk-toggleable__content\"><pre>SVR()</pre></div></div></div><div class=\"sk-serial\"><div class=\"sk-item\"><div class=\"sk-estimator sk-toggleable\"><input class=\"sk-toggleable__control sk-hidden--visually\" id=\"sk-estimator-id-7\" type=\"checkbox\" ><label for=\"sk-estimator-id-7\" class=\"sk-toggleable__label sk-toggleable__label-arrow\">SVR</label><div class=\"sk-toggleable__content\"><pre>SVR()</pre></div></div></div></div></div></div></div></div></div></div>"
            ]
          },
          "metadata": {},
          "execution_count": 137
        }
      ]
    },
    {
      "cell_type": "code",
      "source": [
        "grid.best_params_\n",
        "#Getting the best parameters over X-test"
      ],
      "metadata": {
        "colab": {
          "base_uri": "https://localhost:8080/"
        },
        "id": "T-Blt0HYe6s6",
        "outputId": "251652c5-46b3-43d9-a130-7339b3247b25"
      },
      "execution_count": null,
      "outputs": [
        {
          "output_type": "execute_result",
          "data": {
            "text/plain": [
              "{'C': 10, 'gamma': 0.01, 'kernel': 'rbf'}"
            ]
          },
          "metadata": {},
          "execution_count": 138
        }
      ]
    },
    {
      "cell_type": "code",
      "source": [
        "grid.best_score_"
      ],
      "metadata": {
        "colab": {
          "base_uri": "https://localhost:8080/"
        },
        "id": "1Y2YZIB8e_wF",
        "outputId": "984ab650-3313-4592-9dec-e2e6ebdf108c"
      },
      "execution_count": null,
      "outputs": [
        {
          "output_type": "execute_result",
          "data": {
            "text/plain": [
              "0.7397079937810049"
            ]
          },
          "metadata": {},
          "execution_count": 139
        }
      ]
    },
    {
      "cell_type": "code",
      "source": [
        "model=SVR(C=10,verbose=True,gamma=0.01)\n",
        "#Applying parameters over data"
      ],
      "metadata": {
        "id": "m1KXVRUTfCsu"
      },
      "execution_count": null,
      "outputs": []
    },
    {
      "cell_type": "code",
      "source": [
        "model.fit(X,y)"
      ],
      "metadata": {
        "colab": {
          "base_uri": "https://localhost:8080/",
          "height": 92
        },
        "id": "Q2Vjc590fQp7",
        "outputId": "b0bcf596-0a9e-4c04-d5fc-e070ac146a56"
      },
      "execution_count": null,
      "outputs": [
        {
          "output_type": "stream",
          "name": "stdout",
          "text": [
            "[LibSVM]"
          ]
        },
        {
          "output_type": "execute_result",
          "data": {
            "text/plain": [
              "SVR(C=10, gamma=0.01, verbose=True)"
            ],
            "text/html": [
              "<style>#sk-container-id-4 {color: black;background-color: white;}#sk-container-id-4 pre{padding: 0;}#sk-container-id-4 div.sk-toggleable {background-color: white;}#sk-container-id-4 label.sk-toggleable__label {cursor: pointer;display: block;width: 100%;margin-bottom: 0;padding: 0.3em;box-sizing: border-box;text-align: center;}#sk-container-id-4 label.sk-toggleable__label-arrow:before {content: \"▸\";float: left;margin-right: 0.25em;color: #696969;}#sk-container-id-4 label.sk-toggleable__label-arrow:hover:before {color: black;}#sk-container-id-4 div.sk-estimator:hover label.sk-toggleable__label-arrow:before {color: black;}#sk-container-id-4 div.sk-toggleable__content {max-height: 0;max-width: 0;overflow: hidden;text-align: left;background-color: #f0f8ff;}#sk-container-id-4 div.sk-toggleable__content pre {margin: 0.2em;color: black;border-radius: 0.25em;background-color: #f0f8ff;}#sk-container-id-4 input.sk-toggleable__control:checked~div.sk-toggleable__content {max-height: 200px;max-width: 100%;overflow: auto;}#sk-container-id-4 input.sk-toggleable__control:checked~label.sk-toggleable__label-arrow:before {content: \"▾\";}#sk-container-id-4 div.sk-estimator input.sk-toggleable__control:checked~label.sk-toggleable__label {background-color: #d4ebff;}#sk-container-id-4 div.sk-label input.sk-toggleable__control:checked~label.sk-toggleable__label {background-color: #d4ebff;}#sk-container-id-4 input.sk-hidden--visually {border: 0;clip: rect(1px 1px 1px 1px);clip: rect(1px, 1px, 1px, 1px);height: 1px;margin: -1px;overflow: hidden;padding: 0;position: absolute;width: 1px;}#sk-container-id-4 div.sk-estimator {font-family: monospace;background-color: #f0f8ff;border: 1px dotted black;border-radius: 0.25em;box-sizing: border-box;margin-bottom: 0.5em;}#sk-container-id-4 div.sk-estimator:hover {background-color: #d4ebff;}#sk-container-id-4 div.sk-parallel-item::after {content: \"\";width: 100%;border-bottom: 1px solid gray;flex-grow: 1;}#sk-container-id-4 div.sk-label:hover label.sk-toggleable__label {background-color: #d4ebff;}#sk-container-id-4 div.sk-serial::before {content: \"\";position: absolute;border-left: 1px solid gray;box-sizing: border-box;top: 0;bottom: 0;left: 50%;z-index: 0;}#sk-container-id-4 div.sk-serial {display: flex;flex-direction: column;align-items: center;background-color: white;padding-right: 0.2em;padding-left: 0.2em;position: relative;}#sk-container-id-4 div.sk-item {position: relative;z-index: 1;}#sk-container-id-4 div.sk-parallel {display: flex;align-items: stretch;justify-content: center;background-color: white;position: relative;}#sk-container-id-4 div.sk-item::before, #sk-container-id-4 div.sk-parallel-item::before {content: \"\";position: absolute;border-left: 1px solid gray;box-sizing: border-box;top: 0;bottom: 0;left: 50%;z-index: -1;}#sk-container-id-4 div.sk-parallel-item {display: flex;flex-direction: column;z-index: 1;position: relative;background-color: white;}#sk-container-id-4 div.sk-parallel-item:first-child::after {align-self: flex-end;width: 50%;}#sk-container-id-4 div.sk-parallel-item:last-child::after {align-self: flex-start;width: 50%;}#sk-container-id-4 div.sk-parallel-item:only-child::after {width: 0;}#sk-container-id-4 div.sk-dashed-wrapped {border: 1px dashed gray;margin: 0 0.4em 0.5em 0.4em;box-sizing: border-box;padding-bottom: 0.4em;background-color: white;}#sk-container-id-4 div.sk-label label {font-family: monospace;font-weight: bold;display: inline-block;line-height: 1.2em;}#sk-container-id-4 div.sk-label-container {text-align: center;}#sk-container-id-4 div.sk-container {/* jupyter's `normalize.less` sets `[hidden] { display: none; }` but bootstrap.min.css set `[hidden] { display: none !important; }` so we also need the `!important` here to be able to override the default hidden behavior on the sphinx rendered scikit-learn.org. See: https://github.com/scikit-learn/scikit-learn/issues/21755 */display: inline-block !important;position: relative;}#sk-container-id-4 div.sk-text-repr-fallback {display: none;}</style><div id=\"sk-container-id-4\" class=\"sk-top-container\"><div class=\"sk-text-repr-fallback\"><pre>SVR(C=10, gamma=0.01, verbose=True)</pre><b>In a Jupyter environment, please rerun this cell to show the HTML representation or trust the notebook. <br />On GitHub, the HTML representation is unable to render, please try loading this page with nbviewer.org.</b></div><div class=\"sk-container\" hidden><div class=\"sk-item\"><div class=\"sk-estimator sk-toggleable\"><input class=\"sk-toggleable__control sk-hidden--visually\" id=\"sk-estimator-id-8\" type=\"checkbox\" checked><label for=\"sk-estimator-id-8\" class=\"sk-toggleable__label sk-toggleable__label-arrow\">SVR</label><div class=\"sk-toggleable__content\"><pre>SVR(C=10, gamma=0.01, verbose=True)</pre></div></div></div></div></div>"
            ]
          },
          "metadata": {},
          "execution_count": 141
        }
      ]
    },
    {
      "cell_type": "code",
      "source": [
        "model.predict(datas)"
      ],
      "metadata": {
        "colab": {
          "base_uri": "https://localhost:8080/"
        },
        "id": "nnPoJIy1fT6y",
        "outputId": "69cdeba0-5f77-47db-b6f2-461f12dedf29"
      },
      "execution_count": null,
      "outputs": [
        {
          "output_type": "execute_result",
          "data": {
            "text/plain": [
              "array([4.34554216, 3.76668646, 4.18974251, 8.27320967, 3.68873866,\n",
              "       8.38697423, 6.46109379, 4.99804483, 8.81099128, 7.88980844,\n",
              "       5.80320944, 5.68594726, 7.72855511, 5.72061893, 7.85757905,\n",
              "       7.57594275, 7.22502463, 4.86247628, 3.29255921, 4.71713647,\n",
              "       7.0367083 , 6.56724401, 8.49474169, 6.90922357, 5.4434918 ,\n",
              "       3.86613628, 6.67432266, 8.08769629, 6.14816059, 5.43746389,\n",
              "       5.04226291, 9.30234916, 9.58784445, 4.7838611 , 6.45718104,\n",
              "       4.95490425, 8.192819  , 8.38864452, 6.60558138, 7.73812638,\n",
              "       4.46666047, 6.79643998, 9.95189294, 4.90723123, 5.48214454,\n",
              "       4.53909133, 6.23434287, 9.90950898, 8.13613371, 4.12188397,\n",
              "       6.57710751, 5.93385904, 5.19861889, 4.68976815, 5.61513894,\n",
              "       4.56313152, 7.6128242 , 7.72861078, 5.23071699, 8.27087286,\n",
              "       5.49578464, 5.48502961, 4.92471908, 5.55830484, 5.74308953,\n",
              "       8.51281541, 7.15969844, 3.97011956, 4.65771518, 8.98333619,\n",
              "       7.08243715, 5.62601192, 4.3875251 , 6.6518017 , 6.12802853,\n",
              "       4.99762152, 5.81663897, 6.17292954, 4.89480702, 3.96001205,\n",
              "       5.62674287, 6.15200441, 4.01924952, 8.11307304, 5.38393289,\n",
              "       4.03893179, 4.81779454, 7.21030261, 6.07051167, 4.7044931 ,\n",
              "       4.33193314, 8.30198927, 4.33182619, 6.3469685 , 6.08470685,\n",
              "       4.29634085, 6.2007203 , 4.40352281, 6.26831546, 4.64572531,\n",
              "       4.06805606, 8.52551247, 5.5787198 , 4.64627953, 8.38949897,\n",
              "       5.65850327, 4.35471499, 8.67526041, 5.6142147 , 7.29829137,\n",
              "       9.41082036, 4.14408167, 5.69958069, 9.57084705, 4.99552744,\n",
              "       8.13323727, 6.04550769, 7.21726435, 4.79998246, 7.56413606,\n",
              "       8.59731749, 8.09855369, 6.89526257, 7.56549446, 4.48195287,\n",
              "       6.67964419, 4.74232707, 4.91484318, 3.94099594, 9.46312462,\n",
              "       6.11812628, 5.11533898, 5.42302521, 6.51661303, 4.79294716,\n",
              "       6.1989416 , 5.48702664, 3.37467596, 6.97411768, 8.65642216,\n",
              "       4.38310215, 4.79103859, 5.10397892, 7.52523062, 3.10545375,\n",
              "       4.88159115, 3.91762775, 5.66324635, 3.70923322, 4.27098933,\n",
              "       3.55540011, 6.08991174, 5.37305517, 2.91228277, 6.00302342,\n",
              "       6.10593719, 8.46786015, 4.72833274, 9.23893662, 5.14487188,\n",
              "       4.0819238 , 3.48383975, 4.31980773, 5.48921916, 3.76082936,\n",
              "       6.39260214, 5.39379757, 7.88260624, 4.23119242, 7.62969202,\n",
              "       4.17773111, 7.24598341, 7.13786968, 4.32073446, 5.73539588,\n",
              "       5.60207072, 6.88199448, 3.90037355, 5.5598562 , 5.75362198,\n",
              "       5.14461405, 6.80193122, 8.47330071, 5.33132478, 6.71181814,\n",
              "       6.47566416, 5.97809754, 7.99229534, 4.8552838 , 4.73252959,\n",
              "       6.21277569, 4.88353793, 4.4628854 , 4.27147135, 7.15658394,\n",
              "       7.46589313, 9.24827575, 5.37240956, 9.29519841, 5.25835432,\n",
              "       8.63769964, 4.82254031, 5.13158324, 4.21633397, 5.46250547,\n",
              "       5.42823998, 4.11646008, 6.09671253, 5.46764861, 4.18430078,\n",
              "       5.11491126, 6.7220504 , 6.5720213 , 3.46989266, 4.335862  ,\n",
              "       7.76377922, 3.90795521, 3.85589653, 4.74705412, 5.22746444,\n",
              "       3.80275234, 3.80338046, 8.49411276, 6.61001153, 7.27308706,\n",
              "       4.92867732, 8.67791698, 6.63066301, 5.81727196, 6.62579118,\n",
              "       7.36472505, 6.43653931, 6.04932489, 7.67849106, 5.37828424,\n",
              "       6.17475433, 7.71001465, 6.95827744, 6.97844822, 3.94769676,\n",
              "       6.30746805, 5.64079269, 3.98066399, 7.23808587, 4.71002757,\n",
              "       9.47873458, 6.53337989, 2.79443495, 2.60861392, 6.73652762,\n",
              "       3.45004227, 4.90883014, 3.26149978, 4.84391833, 4.56117516,\n",
              "       4.23067876, 7.78979942, 6.03774026, 7.96139597, 5.98166038,\n",
              "       9.161491  , 4.71345621, 7.28533596, 5.72077243, 5.32221905,\n",
              "       9.43038791, 4.58186684, 6.83868661, 5.30004798, 4.08044712,\n",
              "       5.013258  , 8.02056709, 6.25795865, 8.52484891, 5.79816119,\n",
              "       6.38099009, 5.4585827 , 5.515883  , 5.00163607, 5.73578031,\n",
              "       4.05091839, 5.68564575, 6.39572049, 4.82049009, 5.35342814,\n",
              "       6.52571794, 9.54510942, 7.10587243, 8.36737629, 8.05858205,\n",
              "       6.74639837, 8.31511374, 6.29160323, 9.90013078, 7.90655765,\n",
              "       7.56187611, 6.17782236, 6.00021487, 7.7220804 , 8.42184565,\n",
              "       6.91771106, 6.18347733, 8.33658767, 9.19166839, 7.9679463 ,\n",
              "       7.35451224, 9.03960394, 4.89192768, 8.2018027 , 6.56284405,\n",
              "       5.33622192, 7.88956674, 7.17824463, 7.10819901, 7.81627416,\n",
              "       6.98875284, 4.98769697, 5.13011271, 6.15253914, 6.10344115,\n",
              "       7.29462337, 6.14999913, 6.21035817, 6.44733503, 8.55059242,\n",
              "       5.27691045, 7.48295078, 5.86297619, 5.74954758, 7.63660837,\n",
              "       4.98316496, 6.56016266, 4.36437708, 5.20788293, 5.53290912,\n",
              "       8.30526067, 7.43881013, 4.53826532, 8.59833734, 5.37361829,\n",
              "       5.98645922, 5.50102641, 8.69070453, 5.34544254, 6.21090122,\n",
              "       7.0517286 , 9.09206904, 5.46914573, 7.19716249, 5.59945483,\n",
              "       4.51932142, 7.04347907, 4.47415863, 4.82361909, 7.11632876,\n",
              "       5.54455362, 6.49066581, 6.55286428, 5.95564825, 9.43394319,\n",
              "       6.5593621 , 6.68897596, 6.15546488, 8.44633209, 6.49668429,\n",
              "       5.60877799, 7.03753439, 4.47988619, 6.15468954, 7.39755838,\n",
              "       4.66574148, 7.41351608, 7.08446574, 4.30121302, 9.95567773,\n",
              "       4.96201678, 7.80632532, 5.00139925, 8.28315959, 5.62688532,\n",
              "       8.2543157 , 3.90875757, 6.23854244, 3.68868879, 3.74655767,\n",
              "       5.38292875, 3.8554994 , 3.98881349, 4.33911919, 4.04461581,\n",
              "       4.96559251, 7.40554643, 5.50315663, 6.26120968, 4.65399041,\n",
              "       4.34554216, 3.68868879])"
            ]
          },
          "metadata": {},
          "execution_count": 142
        }
      ]
    }
  ]
}